{
  "nbformat": 4,
  "nbformat_minor": 0,
  "metadata": {
    "colab": {
      "name": "Preprocessing.ipynb",
      "provenance": [],
      "collapsed_sections": [],
      "authorship_tag": "ABX9TyOl+w2RZ/lZqEaXxt+1p4e0"
    },
    "kernelspec": {
      "name": "python3",
      "display_name": "Python 3"
    },
    "accelerator": "GPU"
  },
  "cells": [
    {
      "cell_type": "markdown",
      "metadata": {
        "id": "04vRbwLw6eIZ",
        "colab_type": "text"
      },
      "source": [
        "# Emotion classifier in speech audio\n",
        "\n",
        "*The problem*<br>\n",
        "Classify the emotion of a speaking person from a short (3 second) audio utterance.\n",
        "\n",
        "*Datasets* <br>\n",
        "RAVDESS and TESS datasets, consisting of mostly short (up to 7 seconds) audio files.\n",
        "\n",
        "*Constraints* <br>\n",
        "Only the first 3 seconds of every audio file used to avoid cases with extreme padding. Shorter audio clips are padded to 3 seconds.\n",
        "\n",
        "*Model results* (are bad, but could be improved a lot): <br>\n",
        "M1: ResNet50 (L2 reg + Dropout): accuracy: 0.5469<br>\n",
        "M2: ResNet50 (More reg + More dropout) : 0.4500<br>\n",
        "M3: Custom 3-layer CNN: accuracy: 0.4625<br>\n",
        "\n",
        "*Lessons learned* <br>\n",
        "- Audio files can be analyzed as sequences (e.g. with RNNs) or as spectrograms (with CNNs). I only touched upon the tip of the iceberg - analyzed spetrograms with CNNs.\n",
        "- Audio files are notoriously slow to read. Difficult to come up with a method that is fast and does not require to load imported audio files to memory.\n",
        "- Preprocessing audio files that are diverse in length, sound, etc. is painful too. \n",
        "- Audio from different datasets can vary quite a bit. This suggests that running an audio AI product that can run on audio from diverse, noisy sources requires even more preprocessing/normalization. What I did here was simply use tanh on all audio files during preprocessing. This way we lose some important information though (e.g. differences between clips).\n",
        "- Neither model converged to any stable results. Validation loss seems to start overfitting right away despite regularization and jumps up and down a lot. Could be remedied by adjusting model complexity, adding augmentation and reviewing differences in datasets."
      ]
    },
    {
      "cell_type": "markdown",
      "metadata": {
        "id": "dJbfbzP7pl_d",
        "colab_type": "text"
      },
      "source": [
        "## 0. Import libraries"
      ]
    },
    {
      "cell_type": "code",
      "metadata": {
        "id": "6gYzGtVzO7QC",
        "colab_type": "code",
        "colab": {}
      },
      "source": [
        "import librosa\n",
        "import numpy as np\n",
        "from pathlib import *\n",
        "import pandas as pd\n",
        "from sklearn.model_selection import train_test_split\n",
        "import os\n",
        "from typing import Tuple\n",
        "\n",
        "# !pip uninstall tensorflow\n",
        "# !pip install tensorflow-gpu==2.0.0\n",
        "import tensorflow as tf\n",
        "from tensorflow import keras\n",
        "\n",
        "# !pip uninstall tqdm\n",
        "# !pip install tqdm\n",
        "from tqdm.auto import tqdm \n",
        "\n",
        "import IPython.display as ipd"
      ],
      "execution_count": 0,
      "outputs": []
    },
    {
      "cell_type": "markdown",
      "metadata": {
        "id": "CLjdK5qOpr2h",
        "colab_type": "text"
      },
      "source": [
        "## 0.1 Download datasets\n",
        "\n",
        "3 datasets are downloaded (2 are used): Crema-D, RAVDESS and TESS. All of them contain labels that can be alligned to a single label map of 8 emotions."
      ]
    },
    {
      "cell_type": "code",
      "metadata": {
        "id": "K9NoknwsVLob",
        "colab_type": "code",
        "colab": {}
      },
      "source": [
        "# keys = eval(open('/content/kaggle.json', 'r').read())\n",
        "\n",
        "# !pip uninstall -y kaggle\n",
        "# !pip install --upgrade pip\n",
        "# !pip install kaggle==1.5.6\n",
        "\n",
        "# os.environ['KAGGLE_USERNAME'] = keys[\"username\"]  \n",
        "# os.environ['KAGGLE_KEY'] = keys[\"key\"]\n",
        "# !kaggle datasets download -d ejlok1/toronto-emotional-speech-set-tess"
      ],
      "execution_count": 0,
      "outputs": []
    },
    {
      "cell_type": "code",
      "metadata": {
        "id": "ja__GWMVOA6A",
        "colab_type": "code",
        "outputId": "04a96da9-39a9-4615-fdc4-1e90e07ad74f",
        "colab": {
          "base_uri": "https://localhost:8080/",
          "height": 127
        }
      },
      "source": [
        "from google.colab import drive\n",
        "drive.mount('/content/drive', force_remount=True)"
      ],
      "execution_count": 3,
      "outputs": [
        {
          "output_type": "stream",
          "text": [
            "Go to this URL in a browser: https://accounts.google.com/o/oauth2/auth?client_id=947318989803-6bn6qk8qdgf4n4g3pfee6491hc0brc4i.apps.googleusercontent.com&redirect_uri=urn%3aietf%3awg%3aoauth%3a2.0%3aoob&response_type=code&scope=email%20https%3a%2f%2fwww.googleapis.com%2fauth%2fdocs.test%20https%3a%2f%2fwww.googleapis.com%2fauth%2fdrive%20https%3a%2f%2fwww.googleapis.com%2fauth%2fdrive.photos.readonly%20https%3a%2f%2fwww.googleapis.com%2fauth%2fpeopleapi.readonly\n",
            "\n",
            "Enter your authorization code:\n",
            "··········\n",
            "Mounted at /content/drive\n"
          ],
          "name": "stdout"
        }
      ]
    },
    {
      "cell_type": "code",
      "metadata": {
        "id": "e0h4RMahWrhd",
        "colab_type": "code",
        "outputId": "2c93cfb1-25e9-4df4-95c2-a217a6ef2bdf",
        "colab": {
          "base_uri": "https://localhost:8080/",
          "height": 204
        }
      },
      "source": [
        "!wget https://zenodo.org/record/1188976/files/Audio_Song_Actors_01-24.zip"
      ],
      "execution_count": 0,
      "outputs": [
        {
          "output_type": "stream",
          "text": [
            "--2020-02-19 09:07:11--  https://zenodo.org/record/1188976/files/Audio_Song_Actors_01-24.zip\n",
            "Resolving zenodo.org (zenodo.org)... 188.184.95.95\n",
            "Connecting to zenodo.org (zenodo.org)|188.184.95.95|:443... connected.\n",
            "HTTP request sent, awaiting response... 200 OK\n",
            "Length: 225505317 (215M) [application/octet-stream]\n",
            "Saving to: ‘Audio_Song_Actors_01-24.zip’\n",
            "\n",
            "Audio_Song_Actors_0 100%[===================>] 215.06M  34.7MB/s    in 5.0s    \n",
            "\n",
            "2020-02-19 09:07:16 (42.8 MB/s) - ‘Audio_Song_Actors_01-24.zip’ saved [225505317/225505317]\n",
            "\n"
          ],
          "name": "stdout"
        }
      ]
    },
    {
      "cell_type": "code",
      "metadata": {
        "id": "FWLjs4JGkABS",
        "colab_type": "code",
        "outputId": "4f089ef6-423f-4fc2-9cf4-af53e0ade24b",
        "colab": {
          "base_uri": "https://localhost:8080/",
          "height": 289
        }
      },
      "source": [
        "!wget https://github.com/CheyneyComputerScience/CREMA-D/archive/master.zip"
      ],
      "execution_count": 0,
      "outputs": [
        {
          "output_type": "stream",
          "text": [
            "--2020-02-19 09:07:18--  https://github.com/CheyneyComputerScience/CREMA-D/archive/master.zip\n",
            "Resolving github.com (github.com)... 140.82.118.3\n",
            "Connecting to github.com (github.com)|140.82.118.3|:443... connected.\n",
            "HTTP request sent, awaiting response... 302 Found\n",
            "Location: https://codeload.github.com/CheyneyComputerScience/CREMA-D/zip/master [following]\n",
            "--2020-02-19 09:07:18--  https://codeload.github.com/CheyneyComputerScience/CREMA-D/zip/master\n",
            "Resolving codeload.github.com (codeload.github.com)... 192.30.253.121\n",
            "Connecting to codeload.github.com (codeload.github.com)|192.30.253.121|:443... connected.\n",
            "HTTP request sent, awaiting response... 200 OK\n",
            "Length: unspecified [application/zip]\n",
            "Saving to: ‘master.zip’\n",
            "\n",
            "master.zip              [         <=>        ]  22.31M  4.88MB/s    in 4.6s    \n",
            "\n",
            "2020-02-19 09:07:23 (4.88 MB/s) - ‘master.zip’ saved [23391027]\n",
            "\n"
          ],
          "name": "stdout"
        }
      ]
    },
    {
      "cell_type": "markdown",
      "metadata": {
        "id": "pj1gXxBlqDqh",
        "colab_type": "text"
      },
      "source": [
        "#### Unzip data to Data Dir"
      ]
    },
    {
      "cell_type": "code",
      "metadata": {
        "id": "nFZoHeuTOB96",
        "colab_type": "code",
        "colab": {}
      },
      "source": [
        "DATA_DIR = Path(\"/content/drive/My\\ Drive/audio_data\")"
      ],
      "execution_count": 0,
      "outputs": []
    },
    {
      "cell_type": "code",
      "metadata": {
        "id": "Yf3CaSCjO-HG",
        "colab_type": "code",
        "colab": {}
      },
      "source": [
        "# Unzip Ravdess\n",
        "!unzip -d {DATA_DIR} Audio_Song_Actors_01-24.zip"
      ],
      "execution_count": 0,
      "outputs": []
    },
    {
      "cell_type": "code",
      "metadata": {
        "id": "Xm8TrhYJU59E",
        "colab_type": "code",
        "outputId": "560761b8-4d1c-4c58-bfd3-6888b3853736",
        "colab": {
          "base_uri": "https://localhost:8080/",
          "height": 34
        }
      },
      "source": [
        "!mkdir {DATA_DIR}/ravdess\n",
        "!mv {DATA_DIR}/* {DATA_DIR}/ravdess"
      ],
      "execution_count": 0,
      "outputs": [
        {
          "output_type": "stream",
          "text": [
            "mv: cannot move '/content/drive/My Drive/audio_data/ravdess' to a subdirectory of itself, '/content/drive/My Drive/audio_data/ravdess/ravdess'\n"
          ],
          "name": "stdout"
        }
      ]
    },
    {
      "cell_type": "code",
      "metadata": {
        "id": "WgiItg6CU7qs",
        "colab_type": "code",
        "colab": {}
      },
      "source": [
        "# Unzip Tess\n",
        "!mkdir {DATA_DIR}/tess\n",
        "!unzip -d {DATA_DIR}/tess toronto-emotional-speech-set-tess.zip"
      ],
      "execution_count": 0,
      "outputs": []
    },
    {
      "cell_type": "code",
      "metadata": {
        "id": "DoYGev0NXVw5",
        "colab_type": "code",
        "colab": {}
      },
      "source": [
        "!rm -r {DATA_DIR}/tess/tess\\ toronto\\ emotional\\ speech\\ set\\ data\n",
        "!mv {DATA_DIR}/tess/TESS\\ Toronto\\ emotional\\ speech\\ set\\ data/* {DATA_DIR}/tess\n",
        "!rm -r {DATA_DIR}/tess/TESS\\ Toronto\\ emotional\\ speech\\ set\\ data"
      ],
      "execution_count": 0,
      "outputs": []
    },
    {
      "cell_type": "code",
      "metadata": {
        "id": "ldvQ8dW3kH5E",
        "colab_type": "code",
        "colab": {}
      },
      "source": [
        "# Unzip Crema-D\n",
        "!unzip master.zip\n",
        "!mkdir {DATA_DIR}/crema_d"
      ],
      "execution_count": 0,
      "outputs": []
    },
    {
      "cell_type": "code",
      "metadata": {
        "id": "Ao8JFHzIkQ1k",
        "colab_type": "code",
        "colab": {}
      },
      "source": [
        "!mv CREMA-D-master/AudioWAV/* {DATA_DIR}/crema_d"
      ],
      "execution_count": 0,
      "outputs": []
    },
    {
      "cell_type": "code",
      "metadata": {
        "id": "VX6N9uXdYXA2",
        "colab_type": "code",
        "outputId": "58a1b338-1a04-4a7b-cc64-783aadaf330e",
        "colab": {
          "base_uri": "https://localhost:8080/",
          "height": 34
        }
      },
      "source": [
        "!ls {DATA_DIR}"
      ],
      "execution_count": 0,
      "outputs": [
        {
          "output_type": "stream",
          "text": [
            "crema_d  ravdess  tess\n"
          ],
          "name": "stdout"
        }
      ]
    },
    {
      "cell_type": "markdown",
      "metadata": {
        "id": "WMf0zVkeqSPz",
        "colab_type": "text"
      },
      "source": [
        "#### Let's check the contents"
      ]
    },
    {
      "cell_type": "code",
      "metadata": {
        "id": "0y91CyzAYsaE",
        "colab_type": "code",
        "outputId": "d14a1f1d-32a7-408e-eb71-39a21ef055ba",
        "colab": {
          "base_uri": "https://localhost:8080/",
          "height": 68
        }
      },
      "source": [
        "!ls {DATA_DIR}/ravdess"
      ],
      "execution_count": 0,
      "outputs": [
        {
          "output_type": "stream",
          "text": [
            "Actor_01  Actor_04  Actor_07  Actor_10\tActor_13  Actor_16  Actor_19  Actor_22\n",
            "Actor_02  Actor_05  Actor_08  Actor_11\tActor_14  Actor_17  Actor_20  Actor_23\n",
            "Actor_03  Actor_06  Actor_09  Actor_12\tActor_15  Actor_18  Actor_21  Actor_24\n"
          ],
          "name": "stdout"
        }
      ]
    },
    {
      "cell_type": "code",
      "metadata": {
        "id": "e5TCJpIpZEEW",
        "colab_type": "code",
        "outputId": "f42774ac-ce9c-41e1-937f-793f790928f8",
        "colab": {
          "base_uri": "https://localhost:8080/",
          "height": 85
        }
      },
      "source": [
        "!ls {DATA_DIR}/tess"
      ],
      "execution_count": 0,
      "outputs": [
        {
          "output_type": "stream",
          "text": [
            "OAF_angry    OAF_neutral\t    YAF_disgust  YAF_pleasant_surprised\n",
            "OAF_disgust  OAF_Pleasant_surprise  YAF_fear\t YAF_sad\n",
            "OAF_Fear     OAF_Sad\t\t    YAF_happy\n",
            "OAF_happy    YAF_angry\t\t    YAF_neutral\n"
          ],
          "name": "stdout"
        }
      ]
    },
    {
      "cell_type": "code",
      "metadata": {
        "id": "6ZfnD8YIk5ql",
        "colab_type": "code",
        "outputId": "c83d557a-21a1-4996-a054-394a53c57714",
        "colab": {
          "base_uri": "https://localhost:8080/",
          "height": 102
        }
      },
      "source": [
        "!ls {DATA_DIR}/crema_d | head -5"
      ],
      "execution_count": 0,
      "outputs": [
        {
          "output_type": "stream",
          "text": [
            "1001_DFA_ANG_XX.wav\n",
            "1001_DFA_DIS_XX.wav\n",
            "1001_DFA_FEA_XX.wav\n",
            "1001_DFA_HAP_XX.wav\n",
            "1001_DFA_NEU_XX.wav\n"
          ],
          "name": "stdout"
        }
      ]
    },
    {
      "cell_type": "markdown",
      "metadata": {
        "id": "MWd1NFveqVMS",
        "colab_type": "text"
      },
      "source": [
        "## 1. EDA + preprocessing\n",
        "\n",
        "6/8 emotions across the three datasets are approximately equally distributed. Surprised and calm are highly under-represented. Audio files vary between 1 and 7 seconds."
      ]
    },
    {
      "cell_type": "code",
      "metadata": {
        "id": "KL3e7tLHZN0W",
        "colab_type": "code",
        "colab": {}
      },
      "source": [
        "# Get filenames\n",
        "filenames = []\n",
        "\n",
        "for currentpath, folders, files in os.walk(\"/content/drive/My Drive/audio_data\"):\n",
        "    for file in files:\n",
        "        filenames.append(os.path.join(currentpath, file))"
      ],
      "execution_count": 0,
      "outputs": []
    },
    {
      "cell_type": "code",
      "metadata": {
        "id": "7FiAhTZrZc9t",
        "colab_type": "code",
        "outputId": "a91525c3-7d3e-4f5e-efd9-dcb086db5b23",
        "colab": {
          "base_uri": "https://localhost:8080/",
          "height": 54
        }
      },
      "source": [
        "print(f\"A total of {len(filenames)} audio file paths, e.g.: {filenames[0]}\")"
      ],
      "execution_count": 0,
      "outputs": [
        {
          "output_type": "stream",
          "text": [
            "A total of 11257 audio file paths, e.g.: /content/drive/My Drive/audio_data/audio_raw.csv\n"
          ],
          "name": "stdout"
        }
      ]
    },
    {
      "cell_type": "code",
      "metadata": {
        "id": "Y5iDev9KZkS2",
        "colab_type": "code",
        "colab": {}
      },
      "source": [
        "# Create dataframe\n",
        "data_raw = pd.DataFrame({\"filename\": filenames})\n",
        "data_raw[\"dataset\"] = data_raw[\"filename\"].map(lambda x: x.split(\"/\")[5])"
      ],
      "execution_count": 0,
      "outputs": []
    },
    {
      "cell_type": "code",
      "metadata": {
        "id": "llmBVgSZirhB",
        "colab_type": "code",
        "outputId": "7277a68b-fab3-4a59-ddee-7fa15fee4083",
        "colab": {
          "base_uri": "https://localhost:8080/",
          "height": 85
        }
      },
      "source": [
        "data_raw.dataset.value_counts()"
      ],
      "execution_count": 0,
      "outputs": [
        {
          "output_type": "execute_result",
          "data": {
            "text/plain": [
              "crema_d    7442\n",
              "tess       2800\n",
              "ravdess    1012\n",
              "Name: dataset, dtype: int64"
            ]
          },
          "metadata": {
            "tags": []
          },
          "execution_count": 9
        }
      ]
    },
    {
      "cell_type": "markdown",
      "metadata": {
        "id": "HkZIkYXfqjc3",
        "colab_type": "text"
      },
      "source": [
        "## 1.1 Label preprocessing\n",
        "\n",
        "Labels are coded in different ways across the three datasets - some are in filenames, some are in directory names. Let's put it all to a DF."
      ]
    },
    {
      "cell_type": "markdown",
      "metadata": {
        "id": "IaZQBOjTq95S",
        "colab_type": "text"
      },
      "source": [
        "#### Ravdess dataset"
      ]
    },
    {
      "cell_type": "code",
      "metadata": {
        "id": "U6tXtlIWagwe",
        "colab_type": "code",
        "colab": {}
      },
      "source": [
        "data_raw[\"label\"] = \"\""
      ],
      "execution_count": 0,
      "outputs": []
    },
    {
      "cell_type": "code",
      "metadata": {
        "id": "JJxFr-8weTTB",
        "colab_type": "code",
        "outputId": "2155b1b8-a58d-4126-f2e2-7cfe934f1c03",
        "colab": {
          "base_uri": "https://localhost:8080/",
          "height": 136
        }
      },
      "source": [
        "print(\"The labels should contain the third digit (after 2nd dash) of these filenames:\")\n",
        "[print(x[51:]) for x in data_raw.loc[data_raw[\"dataset\"] == \"ravdess\", \"filename\"].head()]"
      ],
      "execution_count": 0,
      "outputs": [
        {
          "output_type": "stream",
          "text": [
            "The labels should contain the third digit (after 2nd dash) of these filenames:\n",
            "/03-02-01-01-01-02-07.wav\n",
            "/03-02-02-01-01-02-07.wav\n",
            "/03-02-02-02-01-01-07.wav\n",
            "/03-02-01-01-01-01-07.wav\n",
            "/03-02-01-01-02-02-07.wav\n"
          ],
          "name": "stdout"
        },
        {
          "output_type": "execute_result",
          "data": {
            "text/plain": [
              "[None, None, None, None, None]"
            ]
          },
          "metadata": {
            "tags": []
          },
          "execution_count": 11
        }
      ]
    },
    {
      "cell_type": "code",
      "metadata": {
        "id": "eRuvaDhEcol6",
        "colab_type": "code",
        "outputId": "5d6835bf-105e-4ffa-bfc8-598511584094",
        "colab": {
          "base_uri": "https://localhost:8080/",
          "height": 136
        }
      },
      "source": [
        "print(data_raw.loc[data_raw[\"dataset\"] == \"ravdess\", \"filename\"].str.extract(r'[0-9]+\\-[0-9]+\\-([0-9]+).*').head())\n",
        "print(\"Looks good!\")"
      ],
      "execution_count": 0,
      "outputs": [
        {
          "output_type": "stream",
          "text": [
            "    0\n",
            "0  01\n",
            "1  02\n",
            "2  02\n",
            "3  01\n",
            "4  01\n",
            "Looks good!\n"
          ],
          "name": "stdout"
        }
      ]
    },
    {
      "cell_type": "code",
      "metadata": {
        "id": "r2mUIt54akbg",
        "colab_type": "code",
        "colab": {}
      },
      "source": [
        "data_raw.loc[data_raw['dataset'] == 'ravdess', 'label'] = \\\n",
        "    data_raw.loc[data_raw['dataset'] == 'ravdess', 'filename'\n",
        "                 ].str.extract(r'[0-9]+\\-[0-9]+\\-([0-9]+).*')[0]"
      ],
      "execution_count": 0,
      "outputs": []
    },
    {
      "cell_type": "code",
      "metadata": {
        "id": "mURGTuVsfT1T",
        "colab_type": "code",
        "colab": {}
      },
      "source": [
        "# Apply label map\n",
        "ravdess_label_map = {\n",
        "    \"01\": \"neutral\",\n",
        "    \"02\": \"calm\",\n",
        "    \"03\": \"happy\",\n",
        "    \"04\": \"sad\",\n",
        "    \"05\": \"angry\",\n",
        "    \"06\": \"fearful\",\n",
        "    \"07\": \"disgust\",\n",
        "    \"08\": \"surprised\"\n",
        "}\n",
        "\n",
        "data_raw[\"label\"] = data_raw.label.map(ravdess_label_map)"
      ],
      "execution_count": 0,
      "outputs": []
    },
    {
      "cell_type": "code",
      "metadata": {
        "id": "QuFXPadoghrY",
        "colab_type": "code",
        "outputId": "96f95ace-4da4-46e5-8cba-fd6f2c0e995f",
        "colab": {
          "base_uri": "https://localhost:8080/",
          "height": 136
        }
      },
      "source": [
        "data_raw.label.value_counts()"
      ],
      "execution_count": 0,
      "outputs": [
        {
          "output_type": "execute_result",
          "data": {
            "text/plain": [
              "angry      184\n",
              "calm       184\n",
              "fearful    184\n",
              "sad        184\n",
              "happy      184\n",
              "neutral     92\n",
              "Name: label, dtype: int64"
            ]
          },
          "metadata": {
            "tags": []
          },
          "execution_count": 15
        }
      ]
    },
    {
      "cell_type": "markdown",
      "metadata": {
        "id": "8Tvhie3brCBE",
        "colab_type": "text"
      },
      "source": [
        "#### Tess dataset"
      ]
    },
    {
      "cell_type": "code",
      "metadata": {
        "id": "WRE34gregidJ",
        "colab_type": "code",
        "outputId": "ece05d96-34a8-4d49-de2d-81510103bf97",
        "colab": {
          "base_uri": "https://localhost:8080/",
          "height": 153
        }
      },
      "source": [
        "# Check regex extractor\n",
        "data_raw.loc[data_raw[\"dataset\"] == \"tess\", \"filename\"].str.extract(\".*tess/.*_(.*).wav\")[0].value_counts()"
      ],
      "execution_count": 0,
      "outputs": [
        {
          "output_type": "execute_result",
          "data": {
            "text/plain": [
              "angry      400\n",
              "neutral    400\n",
              "sad        400\n",
              "happy      400\n",
              "ps         400\n",
              "fear       400\n",
              "disgust    400\n",
              "Name: 0, dtype: int64"
            ]
          },
          "metadata": {
            "tags": []
          },
          "execution_count": 16
        }
      ]
    },
    {
      "cell_type": "code",
      "metadata": {
        "id": "roMAyvL5i2Vl",
        "colab_type": "code",
        "colab": {}
      },
      "source": [
        "data_raw.loc[data_raw[\"dataset\"] == \"tess\", \"label\"] = \\\n",
        "    data_raw.loc[data_raw[\"dataset\"] == \"tess\", \"filename\"\n",
        "    ].str.extract(\".*tess/.*_(.*).wav\")[0]"
      ],
      "execution_count": 0,
      "outputs": []
    },
    {
      "cell_type": "code",
      "metadata": {
        "id": "GZrQ4B0qg20F",
        "colab_type": "code",
        "colab": {}
      },
      "source": [
        "tess_label_map = {\n",
        "    \"calm\": \"calm\",\n",
        "    \"fearful\": \"fearful\",\n",
        "    \"surprised\": \"surprised\",\n",
        "    \"neutral\": \"neutral\",\n",
        "    \"happy\": \"happy\",\n",
        "    \"sad\": \"sad\",\n",
        "    \"angry\": \"angry\",\n",
        "    \"fear\": \"fearful\",\n",
        "    \"disgust\": \"disgust\",\n",
        "    \"ps\": \"surprised\"\n",
        "}\n",
        "\n",
        "data_raw[\"label\"] = data_raw.label.map(tess_label_map)"
      ],
      "execution_count": 0,
      "outputs": []
    },
    {
      "cell_type": "markdown",
      "metadata": {
        "id": "IYJRIBwvrb_h",
        "colab_type": "text"
      },
      "source": [
        "#### Crema-D dataset"
      ]
    },
    {
      "cell_type": "code",
      "metadata": {
        "id": "0JRfiFy6lC9v",
        "colab_type": "code",
        "outputId": "73742b40-5480-4258-df5e-674e2959ebed",
        "colab": {
          "base_uri": "https://localhost:8080/",
          "height": 136
        }
      },
      "source": [
        "data_raw.loc[data_raw[\"dataset\"] == \"crema_d\", \"filename\"].str.extract(\".*_([a-zA-Z]+)_[a-zA-Z]+.wav\")[0].value_counts()"
      ],
      "execution_count": 0,
      "outputs": [
        {
          "output_type": "execute_result",
          "data": {
            "text/plain": [
              "SAD    1271\n",
              "HAP    1271\n",
              "DIS    1271\n",
              "FEA    1271\n",
              "ANG    1271\n",
              "NEU    1087\n",
              "Name: 0, dtype: int64"
            ]
          },
          "metadata": {
            "tags": []
          },
          "execution_count": 19
        }
      ]
    },
    {
      "cell_type": "code",
      "metadata": {
        "id": "8y1s8BTXlm34",
        "colab_type": "code",
        "colab": {}
      },
      "source": [
        "data_raw.loc[data_raw[\"dataset\"] == \"crema_d\", \"label\"] = \\\n",
        "    data_raw.loc[data_raw[\"dataset\"] == \"crema_d\", \"filename\"\n",
        "    ].str.extract(\".*_([a-zA-Z]+)_[a-zA-Z]+.wav\")[0]"
      ],
      "execution_count": 0,
      "outputs": []
    },
    {
      "cell_type": "code",
      "metadata": {
        "id": "Uav7bPxHlt_c",
        "colab_type": "code",
        "colab": {}
      },
      "source": [
        "crema_d_label_map = {\n",
        "    \"calm\": \"calm\",\n",
        "    \"fearful\": \"fearful\",\n",
        "    \"surprised\": \"surprised\",\n",
        "    \"neutral\": \"neutral\",\n",
        "    \"happy\": \"happy\",\n",
        "    \"sad\": \"sad\",\n",
        "    \"angry\": \"angry\",\n",
        "    \"disgust\": \"disgust\",\n",
        "    \"SAD\": \"sad\",\n",
        "    \"ANG\": \"angry\",\n",
        "    \"DIS\": \"disgust\",\n",
        "    \"FEA\": \"fearful\",\n",
        "    \"HAP\": \"happy\",\n",
        "    \"NEU\": \"neutral\"\n",
        "}\n",
        "\n",
        "data_raw[\"label\"] = data_raw.label.map(crema_d_label_map)"
      ],
      "execution_count": 0,
      "outputs": []
    },
    {
      "cell_type": "markdown",
      "metadata": {
        "id": "B-5zajTQrg52",
        "colab_type": "text"
      },
      "source": [
        "#### Final label distribution"
      ]
    },
    {
      "cell_type": "code",
      "metadata": {
        "id": "_DpFzdnYmEp4",
        "colab_type": "code",
        "outputId": "14638185-41fb-4cbf-c453-2ac84497b715",
        "colab": {
          "base_uri": "https://localhost:8080/",
          "height": 170
        }
      },
      "source": [
        "data_raw.label.value_counts()"
      ],
      "execution_count": 0,
      "outputs": [
        {
          "output_type": "execute_result",
          "data": {
            "text/plain": [
              "angry        1855\n",
              "fearful      1855\n",
              "sad          1855\n",
              "happy        1855\n",
              "disgust      1671\n",
              "neutral      1579\n",
              "surprised     400\n",
              "calm          184\n",
              "Name: label, dtype: int64"
            ]
          },
          "metadata": {
            "tags": []
          },
          "execution_count": 22
        }
      ]
    },
    {
      "cell_type": "markdown",
      "metadata": {
        "id": "7GuJCTHfrtKD",
        "colab_type": "text"
      },
      "source": [
        "#### Check audio files"
      ]
    },
    {
      "cell_type": "code",
      "metadata": {
        "id": "748kcad5jmS-",
        "colab_type": "code",
        "colab": {}
      },
      "source": [
        "# Check if no missing labels\n",
        "assert data_raw.label.value_counts().sum() == len(data_raw)"
      ],
      "execution_count": 0,
      "outputs": []
    },
    {
      "cell_type": "code",
      "metadata": {
        "id": "7GM__6eMnyEw",
        "colab_type": "code",
        "colab": {}
      },
      "source": [
        "audio_raw = data_raw.filename[:2000].map(lambda x: librosa.load(x, sr=22050)[0])"
      ],
      "execution_count": 0,
      "outputs": []
    },
    {
      "cell_type": "code",
      "metadata": {
        "id": "ThdCMIIIn2u7",
        "colab_type": "code",
        "outputId": "16c6f0bd-1031-4843-a950-43e0a95a43a4",
        "colab": {
          "base_uri": "https://localhost:8080/",
          "height": 51
        }
      },
      "source": [
        "audio_raw[0]"
      ],
      "execution_count": 0,
      "outputs": [
        {
          "output_type": "execute_result",
          "data": {
            "text/plain": [
              "array([ 1.3684871e-06, -1.5953108e-06,  1.8995546e-06, ...,\n",
              "        1.0923847e-06, -8.8504845e-07,  0.0000000e+00], dtype=float32)"
            ]
          },
          "metadata": {
            "tags": []
          },
          "execution_count": 28
        }
      ]
    },
    {
      "cell_type": "code",
      "metadata": {
        "id": "AJvx3GEgvBx0",
        "colab_type": "code",
        "outputId": "38307473-1735-43a1-fec0-0693569f8ef8",
        "colab": {
          "base_uri": "https://localhost:8080/",
          "height": 71
        }
      },
      "source": [
        "audio_raw.to_csv(\"data_raw.csv\", index=False)"
      ],
      "execution_count": 0,
      "outputs": [
        {
          "output_type": "stream",
          "text": [
            "/usr/local/lib/python3.6/dist-packages/ipykernel_launcher.py:1: FutureWarning: The signature of `Series.to_csv` was aligned to that of `DataFrame.to_csv`, and argument 'header' will change its default value from False to True: please pass an explicit value to suppress this warning.\n",
            "  \"\"\"Entry point for launching an IPython kernel.\n"
          ],
          "name": "stderr"
        }
      ]
    },
    {
      "cell_type": "code",
      "metadata": {
        "id": "mAUVjyclPrVv",
        "colab_type": "code",
        "colab": {}
      },
      "source": [
        "audio_raw = pd.DataFrame(audio_raw)\n",
        "audio_raw.columns = [\"data\"]\n",
        "audio_raw[\"label\"] = data_raw.label[:2000]\n",
        "audio_raw[\"audio_length\"] = audio_raw.data.map(lambda x: len(x) / 22050)"
      ],
      "execution_count": 0,
      "outputs": []
    },
    {
      "cell_type": "markdown",
      "metadata": {
        "id": "dsKmEnSFr1r3",
        "colab_type": "text"
      },
      "source": [
        "#### Audio length distribution"
      ]
    },
    {
      "cell_type": "code",
      "metadata": {
        "id": "9amDCEkDQFo-",
        "colab_type": "code",
        "outputId": "836071ac-117d-48fb-a3f1-c4b9dca2c262",
        "colab": {
          "base_uri": "https://localhost:8080/",
          "height": 282
        }
      },
      "source": [
        "audio_raw.audio_length.hist()"
      ],
      "execution_count": 0,
      "outputs": [
        {
          "output_type": "execute_result",
          "data": {
            "text/plain": [
              "<matplotlib.axes._subplots.AxesSubplot at 0x7f7fed1da6a0>"
            ]
          },
          "metadata": {
            "tags": []
          },
          "execution_count": 39
        },
        {
          "output_type": "display_data",
          "data": {
            "image/png": "[encoded data removed]",
            "text/plain": [
              "<Figure size 432x288 with 1 Axes>"
            ]
          },
          "metadata": {
            "tags": []
          }
        }
      ]
    },
    {
      "cell_type": "markdown",
      "metadata": {
        "id": "dKMCCrHWKpyq",
        "colab_type": "text"
      },
      "source": [
        "#### Audio preview"
      ]
    },
    {
      "cell_type": "code",
      "metadata": {
        "id": "-i99HfJPMV47",
        "colab_type": "code",
        "colab": {
          "base_uri": "https://localhost:8080/",
          "height": 74
        },
        "outputId": "3aef7444-1e7c-4f8f-e818-b626573cda78"
      },
      "source": [
        "ipd.Audio('YAF_bar_angry.wav')"
      ],
      "execution_count": 10,
      "outputs": [
        {
          "output_type": "execute_result",
          "data": {
            "text/html": [
              "\n",
              "                <audio controls=\"controls\" >\n",
              "                    <source src=\"data:audio/x-wav;base64,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\" type=\"audio/x-wav\" />\n",
              "                    Your browser does not support the audio element.\n",
              "                </audio>\n",
              "              "
            ],
            "text/plain": [
              "<IPython.lib.display.Audio object>"
            ]
          },
          "metadata": {
            "tags": []
          },
          "execution_count": 10
        }
      ]
    },
    {
      "cell_type": "code",
      "metadata": {
        "id": "OVEVqQqhMVxZ",
        "colab_type": "code",
        "colab": {
          "base_uri": "https://localhost:8080/",
          "height": 74
        },
        "outputId": "4dc35d7e-60a6-49ec-fb97-6724c5e05f82"
      },
      "source": [
        "ipd.Audio('OAF_bar_ps.wav')"
      ],
      "execution_count": 11,
      "outputs": [
        {
          "output_type": "execute_result",
          "data": {
            "text/html": [
              "\n",
              "                <audio controls=\"controls\" >\n",
              "                    <source src=\"data:audio/x-wav;base64,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\" type=\"audio/x-wav\" />\n",
              "                    Your browser does not support the audio element.\n",
              "                </audio>\n",
              "              "
            ],
            "text/plain": [
              "<IPython.lib.display.Audio object>"
            ]
          },
          "metadata": {
            "tags": []
          },
          "execution_count": 11
        }
      ]
    },
    {
      "cell_type": "markdown",
      "metadata": {
        "id": "YbBXS1cNsJyU",
        "colab_type": "text"
      },
      "source": [
        "#### Save pre-processed data"
      ]
    },
    {
      "cell_type": "code",
      "metadata": {
        "id": "_joLUko1sCOB",
        "colab_type": "code",
        "colab": {}
      },
      "source": [
        "data_raw.to_csv('/content/drive/My Drive/audio_data/data_raw.csv')"
      ],
      "execution_count": 0,
      "outputs": []
    },
    {
      "cell_type": "markdown",
      "metadata": {
        "id": "AJBdVOyZsX8v",
        "colab_type": "text"
      },
      "source": [
        "## 2. Data generator\n",
        "\n",
        "The audio files will be preprocessed in the following way:<br>\n",
        "1. Each audio file will be read into an array and converted into a spectrogram (image).<br>\n",
        "2. To limit the complexity, we will use the first 3 seconds of audio, and pad shorter audio files to 3s.<br>\n",
        "3. A generator will loop over audio files and accumulate them to batches.\n",
        "4. This generator will be fed into a tf Dataset that will convert it to a 3-channel image, shuffle and prefetch it."
      ]
    },
    {
      "cell_type": "code",
      "metadata": {
        "id": "sRtxQhoGPmGI",
        "colab_type": "code",
        "colab": {}
      },
      "source": [
        "# Read the data back, use 2/3 datasets\n",
        "data_raw = pd.read_csv('/content/drive/My Drive/audio_data/data_raw.csv')\n",
        "data_raw = data_raw.drop(data_raw.loc[data_raw[\"dataset\"] == \"crema_d\", :].index).sample(frac=1).reset_index()"
      ],
      "execution_count": 0,
      "outputs": []
    },
    {
      "cell_type": "code",
      "metadata": {
        "id": "NR819VUDV4eF",
        "colab_type": "code",
        "colab": {}
      },
      "source": [
        "# Read audio file, convert to spectrogram\n",
        "def make_spectrogram(filename: str, n_mels: int = 40):\n",
        "    waveform, sr = librosa.load(filename, sr=22050, duration=3., res_type='kaiser_fast')\n",
        "    spectrogram = librosa.feature.melspectrogram(waveform, sr=sr, n_mels=n_mels)\n",
        "    return np.array(spectrogram)"
      ],
      "execution_count": 0,
      "outputs": []
    },
    {
      "cell_type": "code",
      "metadata": {
        "id": "7cic4Vn8MfCC",
        "colab_type": "code",
        "colab": {
          "base_uri": "https://localhost:8080/",
          "height": 172
        },
        "outputId": "59f4976f-c390-42c0-a520-163ae3c9799e"
      },
      "source": [
        "# Check spectrogram\n",
        "import matplotlib.pyplot as plt\n",
        "plt.imshow(make_spectrogram(data_raw.filename[0], n_mels=40))"
      ],
      "execution_count": 19,
      "outputs": [
        {
          "output_type": "execute_result",
          "data": {
            "text/plain": [
              "<matplotlib.image.AxesImage at 0x7f111e34d0b8>"
            ]
          },
          "metadata": {
            "tags": []
          },
          "execution_count": 19
        },
        {
          "output_type": "display_data",
          "data": {
            "image/png": "[encoded data removed]",
            "text/plain": [
              "<Figure size 432x288 with 1 Axes>"
            ]
          },
          "metadata": {
            "tags": []
          }
        }
      ]
    },
    {
      "cell_type": "code",
      "metadata": {
        "id": "anAlstD7M347",
        "colab_type": "code",
        "colab": {
          "base_uri": "https://localhost:8080/",
          "height": 275
        },
        "outputId": "1fed3d4a-fae7-4999-cb3f-a86b12c26257"
      },
      "source": [
        "plt.imshow(make_spectrogram(data_raw.filename[1395], n_mels=80))"
      ],
      "execution_count": 32,
      "outputs": [
        {
          "output_type": "execute_result",
          "data": {
            "text/plain": [
              "<matplotlib.image.AxesImage at 0x7f111b1d6240>"
            ]
          },
          "metadata": {
            "tags": []
          },
          "execution_count": 32
        },
        {
          "output_type": "display_data",
          "data": {
            "image/png": "[encoded data removed]",
            "text/plain": [
              "<Figure size 432x288 with 1 Axes>"
            ]
          },
          "metadata": {
            "tags": []
          }
        }
      ]
    },
    {
      "cell_type": "code",
      "metadata": {
        "id": "cr8GLKdCeeCg",
        "colab_type": "code",
        "colab": {}
      },
      "source": [
        "# Read all audio files into a DF\n",
        "tqdm.pandas()\n",
        "\n",
        "data_raw[\"audio_spectro\"] = data_raw.filename.progress_map(lambda x: make_spectrogram(x, 40))"
      ],
      "execution_count": 0,
      "outputs": []
    },
    {
      "cell_type": "code",
      "metadata": {
        "id": "Qt7BEhgA2Xl-",
        "colab_type": "code",
        "colab": {}
      },
      "source": [
        "# data_raw.to_csv(\"/content/drive/My Drive/audio_data/data_spectr_3s_40.csv\")\n",
        "# np.save(\"/content/drive/My Drive/audio_data/audio_spectro_3s_40.npy\", data_raw.audio_spectro.to_numpy())"
      ],
      "execution_count": 0,
      "outputs": []
    },
    {
      "cell_type": "code",
      "metadata": {
        "id": "9x7uFvQr7h45",
        "colab_type": "code",
        "colab": {}
      },
      "source": [
        "data_raw = pd.read_csv(\"/content/drive/My Drive/audio_data/data_spectr_3s_40.csv\")\n",
        "data_raw[\"audio_spectro\"] = np.load(\"/content/drive/My Drive/audio_data/audio_spectro_3s_40.npy\", allow_pickle=True)"
      ],
      "execution_count": 0,
      "outputs": []
    },
    {
      "cell_type": "code",
      "metadata": {
        "id": "ibxTSfzuPkkl",
        "colab_type": "code",
        "colab": {}
      },
      "source": [
        "# Scale data\n",
        "def scale_data(df: pd.DataFrame, data_col: str, \n",
        "               mean: float = None, std: float = None):\n",
        "  df_copy = df.copy()\n",
        "  if mean:\n",
        "    master_mean = mean\n",
        "  else:\n",
        "    master_mean = df_copy.audio_spectro.apply(np.mean).mean()\n",
        "  if std:\n",
        "    master_std = std\n",
        "  else:\n",
        "    master_std = df_copy.audio_spectro.apply(np.std).mean()\n",
        "  df_copy[data_col] = (df_copy[data_col] - master_mean) / master_std / 100\n",
        "  return df_copy"
      ],
      "execution_count": 0,
      "outputs": []
    },
    {
      "cell_type": "code",
      "metadata": {
        "id": "AIxXvOv7rW74",
        "colab_type": "code",
        "colab": {}
      },
      "source": [
        "# Pad sequences to selected length\n",
        "def pad_to(sequence: np.ndarray, pad_length: int):\n",
        "  if sequence.shape[1] < pad_length:\n",
        "    return np.pad(sequence, ((0,0), (0, pad_length - sequence.shape[1])), mode='mean')\n",
        "  else:\n",
        "    return sequence"
      ],
      "execution_count": 0,
      "outputs": []
    },
    {
      "cell_type": "code",
      "metadata": {
        "id": "sa5ntlTkdS9-",
        "colab_type": "code",
        "colab": {}
      },
      "source": [
        "def preprocess_audio(dataframe: pd.DataFrame, filename_col: str = \"filename\", \n",
        "                     label_col: str = \"label\", seconds: int = 1, bs=32,\n",
        "                     master_mean: np.float32 = None, master_std: np.float32 = None,\n",
        "                     label_map: dict = None):\n",
        "  \n",
        "    # If train data, scale with own mean/std\n",
        "    # If val: scale with train mean/std\n",
        "    if master_mean and master_std:\n",
        "      dataframe = scale_data(dataframe, filename_col, master_mean, master_std)\n",
        "    else:\n",
        "      dataframe = scale_data(dataframe, filename_col)\n",
        "\n",
        "    xs_cumulative = None\n",
        "    ys_cumulative = None\n",
        "    while True:\n",
        "      for index_row in dataframe.index:\n",
        "        spectrogram = dataframe.loc[index_row, filename_col] \n",
        "        spectrogram_split = pad_to(spectrogram, seconds * 44)\n",
        "        xs = np.expand_dims(spectrogram_split, 0)\n",
        "        y = dataframe[label_col].map(label_map).loc[index_row]\n",
        "        ys = np.repeat(y, xs.shape[0])\n",
        "        if xs_cumulative is None:\n",
        "          xs_cumulative = xs\n",
        "          ys_cumulative = ys\n",
        "        elif xs_cumulative.shape[0] <= bs:\n",
        "          try:\n",
        "            xs_cumulative = np.append(xs, xs_cumulative, axis=0)\n",
        "            ys_cumulative = np.append(ys, ys_cumulative, axis=0)\n",
        "          except:\n",
        "            pass\n",
        "        else:\n",
        "          if len(xs_cumulative.shape) == 3:\n",
        "            yield tf.constant(np.tanh(xs_cumulative[:bs,...]), dtype=tf.float32), tf.constant(ys_cumulative[:bs], dtype=tf.int8)\n",
        "            xs_cumulative = None\n",
        "            ys_cumulative = None\n",
        "          else: \n",
        "            xs_cumulative = None\n",
        "            ys_cumulative = None\n",
        "          \n"
      ],
      "execution_count": 0,
      "outputs": []
    },
    {
      "cell_type": "code",
      "metadata": {
        "id": "Yg1mFtg3wFn3",
        "colab_type": "code",
        "colab": {}
      },
      "source": [
        "# Get label map to pass to generator\n",
        "label_map = {\n",
        "    \"angry\": 0,\n",
        "    \"fearful\": 1,\n",
        "    \"sad\": 2,\n",
        "    \"happy\": 3,\n",
        "    \"disgust\": 4,\n",
        "    \"neutral\": 5,\n",
        "    \"surprised\": 6,\n",
        "    \"calm\": 7\n",
        "}"
      ],
      "execution_count": 0,
      "outputs": []
    },
    {
      "cell_type": "markdown",
      "metadata": {
        "id": "ur8tzZ61y5te",
        "colab_type": "text"
      },
      "source": [
        "#### Split data + make generators"
      ]
    },
    {
      "cell_type": "code",
      "metadata": {
        "id": "Ya271KHNtRQ-",
        "colab_type": "code",
        "colab": {}
      },
      "source": [
        "# Split the data\n",
        "train_data, val_data = train_test_split(data_raw, test_size=0.2)\n",
        "val_data, test_data = train_test_split(val_data, test_size=0.5)\n",
        "\n",
        "# Make train data generator\n",
        "train_datagen = preprocess_audio(train_data, \"audio_spectro\", \"label\", \n",
        "                                 seconds=3, bs=64, label_map=label_map)\n",
        "\n",
        "# Get train mean and std for validation scaling\n",
        "train_mean = train_data.audio_spectro.apply(np.mean).mean()\n",
        "train_std = train_data.audio_spectro.apply(np.std).mean()\n",
        "\n",
        "# Validation generator\n",
        "val_datagen = preprocess_audio(val_data, \"audio_spectro\", \"label\", seconds=3, bs=64,\n",
        "                               master_mean=train_mean, master_std=train_std, \n",
        "                               label_map=label_map)\n",
        "\n",
        "test_datagen = preprocess_audio(test_data, \"audio_spectro\", \"label\", seconds=3, bs=64,\n",
        "                               master_mean=train_mean, master_std=train_std, \n",
        "                               label_map=label_map)"
      ],
      "execution_count": 0,
      "outputs": []
    },
    {
      "cell_type": "code",
      "metadata": {
        "id": "dstEvacDzW8B",
        "colab_type": "code",
        "outputId": "fccb9670-f2e2-49ee-cb90-8bd78c594d21",
        "colab": {
          "base_uri": "https://localhost:8080/",
          "height": 179
        }
      },
      "source": [
        "print(f\"Total N: {len(train_data) + len(val_data)}\")\n",
        "print(\"Train dataset shapes:\")\n",
        "print(f\"Train X: {next(train_datagen)[0].shape}, train Y: {next(train_datagen)[1].shape}\")\n",
        "print(\"Val dataset shapes:\")\n",
        "print(f\"Val X: {next(val_datagen)[0].shape}, val Y: {next(val_datagen)[1].shape}\\n\")\n",
        "print(\"Batch means and stds:\")\n",
        "print(f\"Train mean: {np.mean(next(train_datagen)[0])}, train std: {np.std(next(train_datagen)[1])}\")\n",
        "print(f\"Val mean: {np.mean(next(val_datagen)[0])}, val std: {np.std(next(val_datagen)[1])}\")"
      ],
      "execution_count": 0,
      "outputs": [
        {
          "output_type": "stream",
          "text": [
            "Total N: 3430\n",
            "Train dataset shapes:\n",
            "Train X: (64, 40, 132), train Y: (64,)\n",
            "Val dataset shapes:\n",
            "Val X: (64, 40, 132), val Y: (64,)\n",
            "\n",
            "Batch means and stds:\n",
            "Train mean: -5.4133797675604e-05, train std: 2.001708254841349\n",
            "Val mean: 0.0003017912385985255, val std: 2.0365315950163896\n"
          ],
          "name": "stdout"
        }
      ]
    },
    {
      "cell_type": "markdown",
      "metadata": {
        "id": "MpNYWv780Wy9",
        "colab_type": "text"
      },
      "source": [
        "#### Tensorflow generator"
      ]
    },
    {
      "cell_type": "code",
      "metadata": {
        "id": "U5IOAumXTtON",
        "colab_type": "code",
        "colab": {}
      },
      "source": [
        "INPUT_SHAPE = [64,40,132,3]\n",
        "autotune = tf.data.experimental.AUTOTUNE\n",
        "\n",
        "def set_shapes(inputs, label, input_shape):\n",
        "    inputs.set_shape(input_shape)\n",
        "    label.set_shape(input_shape[0])\n",
        "    return inputs, label\n",
        "\n",
        "def data_tf_generator(generator, shuffle=False, input_shape=None):\n",
        "  ds = tf.data.Dataset.from_generator(lambda: generator, output_types=(tf.float32, tf.int8))\n",
        "  ds = ds.map(lambda x,y: (tf.stack([x,x,x], axis=-1), y), num_parallel_calls=autotune)\n",
        "  ds = ds.map(lambda x,y: set_shapes(x,y,input_shape), num_parallel_calls=autotune)\n",
        "  if shuffle:\n",
        "    ds = ds.shuffle(64)\n",
        "  ds = ds.repeat().prefetch(autotune)\n",
        "  return ds"
      ],
      "execution_count": 0,
      "outputs": []
    },
    {
      "cell_type": "code",
      "metadata": {
        "id": "Tl7zrhxndX4N",
        "colab_type": "code",
        "colab": {}
      },
      "source": [
        "def get_train_data():\n",
        "  return data_tf_generator(train_datagen, input_shape=INPUT_SHAPE, shuffle=True)\n",
        "\n",
        "def get_val_data():\n",
        "  return data_tf_generator(val_datagen, input_shape=INPUT_SHAPE)\n",
        "\n",
        "def get_test_data():\n",
        "  return data_tf_generator(test_datagen, input_shape=INPUT_SHAPE)"
      ],
      "execution_count": 0,
      "outputs": []
    },
    {
      "cell_type": "code",
      "metadata": {
        "id": "5YWiANZFlczq",
        "colab_type": "code",
        "outputId": "a76a090c-b1ae-48e7-a320-7e5c7820af9e",
        "colab": {
          "base_uri": "https://localhost:8080/",
          "height": 53
        }
      },
      "source": [
        "for x,y in get_train_data().take(1):\n",
        "  print(x.shape, y.shape)\n",
        "\n",
        "for x,y in get_val_data().take(1):\n",
        "  print(x.shape, y.shape)"
      ],
      "execution_count": 0,
      "outputs": [
        {
          "output_type": "stream",
          "text": [
            "(64, 40, 132, 3) (64,)\n",
            "(64, 40, 132, 3) (64,)\n"
          ],
          "name": "stdout"
        }
      ]
    },
    {
      "cell_type": "markdown",
      "metadata": {
        "id": "zKrwJQhj1PVT",
        "colab_type": "text"
      },
      "source": [
        "## 3. Model definition\n",
        "\n",
        "We will use vanilla ResNet50 with no pre-trained weights. <br>\n",
        "- Architecture choice was driven by minimal input size - although XCeption would have been nice, it requires at least [71,71] images, which is slow to obtain when making spectrograms from audio files.\n",
        "- No pre-trained weights were selected, since imagenet and other major datasets contain categories that are not useful for spectrograms. No useful information in those weights."
      ]
    },
    {
      "cell_type": "code",
      "metadata": {
        "id": "GUZNMUEPf0M7",
        "colab_type": "code",
        "colab": {}
      },
      "source": [
        "# Define model creator\n",
        "def model_creator(base_model: keras.models.Model,\n",
        "                  input_shape: Tuple,\n",
        "                  dropout: float,\n",
        "                  output_layer: keras.layers.Layer) -> keras.Model:\n",
        "                  \n",
        "        base_model = base_model(\n",
        "            include_top=False, weights=None, input_shape=(input_shape))\n",
        "        concat_layer = keras.layers.concatenate(\n",
        "            [\n",
        "                keras.layers.GlobalAvgPool2D()(base_model.output),\n",
        "                keras.layers.GlobalMaxPool2D()(base_model.output),\n",
        "            ]\n",
        "        )\n",
        "\n",
        "        dropout = keras.layers.Dropout(dropout)(concat_layer)\n",
        "\n",
        "        batchnorm = keras.layers.BatchNormalization()(dropout)\n",
        "        output = output_layer(batchnorm)\n",
        "        return keras.Model(inputs=base_model.input, outputs=output)"
      ],
      "execution_count": 0,
      "outputs": []
    },
    {
      "cell_type": "code",
      "metadata": {
        "id": "vAGlTFZUgKrl",
        "colab_type": "code",
        "colab": {}
      },
      "source": [
        "# Define model 1\n",
        "model_1 = model_creator(\n",
        "    keras.applications.ResNet50, \n",
        "    input_shape=(40,132,3),\n",
        "    dropout=0.2, \n",
        "    output_layer=keras.layers.Dense(8, activation=\"softmax\")\n",
        "    )"
      ],
      "execution_count": 0,
      "outputs": []
    },
    {
      "cell_type": "code",
      "metadata": {
        "id": "uhj9I2irkfpQ",
        "colab_type": "code",
        "colab": {}
      },
      "source": [
        "# Define callbacks and compile\n",
        "callbacks = [\n",
        "            keras.callbacks.ReduceLROnPlateau(factor=0.33, patience=4),\n",
        "            keras.callbacks.EarlyStopping(patience=5, restore_best_weights=True),\n",
        "            ]\n",
        "\n",
        "model_1.compile(optimizer='adam', loss=keras.losses.sparse_categorical_crossentropy, \n",
        "                metrics=[\"accuracy\"], lr=1e-4)"
      ],
      "execution_count": 0,
      "outputs": []
    },
    {
      "cell_type": "code",
      "metadata": {
        "id": "ojUWFUmUklhM",
        "colab_type": "code",
        "outputId": "226aacfc-37fe-4521-b997-0c01d9a48c7e",
        "colab": {
          "base_uri": "https://localhost:8080/",
          "height": 1000
        }
      },
      "source": [
        "model_1.fit(get_train_data(), validation_data=get_val_data(), \n",
        "            epochs=30, steps_per_epoch=len(train_data) // 64, \n",
        "            validation_steps=len(val_data) // 64)"
      ],
      "execution_count": 0,
      "outputs": [
        {
          "output_type": "stream",
          "text": [
            "Train for 47 steps, validate for 5 steps\n",
            "Epoch 1/30\n",
            "47/47 [==============================] - 28s 587ms/step - loss: 1.4915 - accuracy: 0.5153 - val_loss: 29.7888 - val_accuracy: 0.1250\n",
            "Epoch 2/30\n",
            "47/47 [==============================] - 10s 205ms/step - loss: 0.6272 - accuracy: 0.7872 - val_loss: 4.9652 - val_accuracy: 0.1500\n",
            "Epoch 3/30\n",
            "47/47 [==============================] - 10s 204ms/step - loss: 0.4592 - accuracy: 0.8501 - val_loss: 4.2737 - val_accuracy: 0.1437\n",
            "Epoch 4/30\n",
            "47/47 [==============================] - 9s 189ms/step - loss: 0.3590 - accuracy: 0.8760 - val_loss: 3.7993 - val_accuracy: 0.1031\n",
            "Epoch 5/30\n",
            "47/47 [==============================] - 9s 186ms/step - loss: 0.3614 - accuracy: 0.8860 - val_loss: 2031.0920 - val_accuracy: 0.1312\n",
            "Epoch 6/30\n",
            "47/47 [==============================] - 9s 194ms/step - loss: 0.3230 - accuracy: 0.9013 - val_loss: 5.9528 - val_accuracy: 0.1594\n",
            "Epoch 7/30\n",
            "47/47 [==============================] - 9s 190ms/step - loss: 0.2937 - accuracy: 0.9189 - val_loss: 7.4161 - val_accuracy: 0.1500\n",
            "Epoch 8/30\n",
            "47/47 [==============================] - 9s 188ms/step - loss: 0.2457 - accuracy: 0.9209 - val_loss: 6.0452 - val_accuracy: 0.1969\n",
            "Epoch 9/30\n",
            "47/47 [==============================] - 9s 183ms/step - loss: 0.2301 - accuracy: 0.9262 - val_loss: 6.5276 - val_accuracy: 0.2062\n",
            "Epoch 10/30\n",
            "47/47 [==============================] - 9s 199ms/step - loss: 0.2655 - accuracy: 0.9152 - val_loss: 18.1895 - val_accuracy: 0.1813\n",
            "Epoch 11/30\n",
            "47/47 [==============================] - 9s 186ms/step - loss: 0.2805 - accuracy: 0.9156 - val_loss: 6.1047 - val_accuracy: 0.2594\n",
            "Epoch 12/30\n",
            "47/47 [==============================] - 8s 180ms/step - loss: 0.1690 - accuracy: 0.9395 - val_loss: 4.0623 - val_accuracy: 0.3156\n",
            "Epoch 13/30\n",
            "47/47 [==============================] - 9s 190ms/step - loss: 0.1542 - accuracy: 0.9488 - val_loss: 3.5735 - val_accuracy: 0.3750\n",
            "Epoch 14/30\n",
            "47/47 [==============================] - 9s 195ms/step - loss: 0.0983 - accuracy: 0.9654 - val_loss: 3.2125 - val_accuracy: 0.4062\n",
            "Epoch 15/30\n",
            "47/47 [==============================] - 9s 186ms/step - loss: 0.0694 - accuracy: 0.9741 - val_loss: 0.9746 - val_accuracy: 0.7125\n",
            "Epoch 16/30\n",
            "47/47 [==============================] - 9s 194ms/step - loss: 0.0822 - accuracy: 0.9707 - val_loss: 1.0551 - val_accuracy: 0.6906\n",
            "Epoch 17/30\n",
            "47/47 [==============================] - 9s 184ms/step - loss: 0.1028 - accuracy: 0.9701 - val_loss: 4.2874 - val_accuracy: 0.3625\n",
            "Epoch 18/30\n",
            "47/47 [==============================] - 9s 191ms/step - loss: 0.0987 - accuracy: 0.9674 - val_loss: 2.6206 - val_accuracy: 0.5594\n",
            "Epoch 19/30\n",
            "47/47 [==============================] - 9s 200ms/step - loss: 0.0499 - accuracy: 0.9811 - val_loss: 0.7581 - val_accuracy: 0.8219\n",
            "Epoch 20/30\n",
            "47/47 [==============================] - 9s 195ms/step - loss: 0.0446 - accuracy: 0.9847 - val_loss: 7.2349 - val_accuracy: 0.3656\n",
            "Epoch 21/30\n",
            "47/47 [==============================] - 9s 194ms/step - loss: 0.0292 - accuracy: 0.9890 - val_loss: 8.7032 - val_accuracy: 0.3281\n",
            "Epoch 22/30\n",
            "47/47 [==============================] - 8s 174ms/step - loss: 0.0415 - accuracy: 0.9884 - val_loss: 8.9042 - val_accuracy: 0.3156\n",
            "Epoch 23/30\n",
            "47/47 [==============================] - 9s 201ms/step - loss: 0.0562 - accuracy: 0.9811 - val_loss: 4.6188 - val_accuracy: 0.4875\n",
            "Epoch 24/30\n",
            "47/47 [==============================] - 10s 203ms/step - loss: 0.0448 - accuracy: 0.9847 - val_loss: 2.0258 - val_accuracy: 0.5875\n",
            "Epoch 25/30\n",
            "47/47 [==============================] - 8s 179ms/step - loss: 0.0595 - accuracy: 0.9764 - val_loss: 3.2596 - val_accuracy: 0.4531\n",
            "Epoch 26/30\n",
            "47/47 [==============================] - 9s 197ms/step - loss: 0.0378 - accuracy: 0.9870 - val_loss: 1.8699 - val_accuracy: 0.6031\n",
            "Epoch 27/30\n",
            "47/47 [==============================] - 9s 197ms/step - loss: 0.0455 - accuracy: 0.9837 - val_loss: 1.6307 - val_accuracy: 0.6906\n",
            "Epoch 28/30\n",
            "47/47 [==============================] - 9s 193ms/step - loss: 0.0445 - accuracy: 0.9847 - val_loss: 0.9142 - val_accuracy: 0.7812\n",
            "Epoch 29/30\n",
            "47/47 [==============================] - 10s 206ms/step - loss: 0.0607 - accuracy: 0.9791 - val_loss: 5.1586 - val_accuracy: 0.4313\n",
            "Epoch 30/30\n",
            "47/47 [==============================] - 9s 196ms/step - loss: 0.0327 - accuracy: 0.9894 - val_loss: 3.2950 - val_accuracy: 0.4875\n"
          ],
          "name": "stdout"
        },
        {
          "output_type": "execute_result",
          "data": {
            "text/plain": [
              "<tensorflow.python.keras.callbacks.History at 0x7fab177c3c18>"
            ]
          },
          "metadata": {
            "tags": []
          },
          "execution_count": 142
        }
      ]
    },
    {
      "cell_type": "markdown",
      "metadata": {
        "id": "ti8fpGbLw7M_",
        "colab_type": "text"
      },
      "source": [
        "#### Comment\n",
        "The validation loss looks somewhat all over the place after a certain period. Let's try to add some regularization in the output layer and increase dropout."
      ]
    },
    {
      "cell_type": "code",
      "metadata": {
        "id": "YHm4Y3PKBaSZ",
        "colab_type": "code",
        "colab": {}
      },
      "source": [
        "# Define model creator\n",
        "def model_creator(base_model: keras.models.Model,\n",
        "                  input_shape: Tuple,\n",
        "                  dropout: float,\n",
        "                  n_dense: int,\n",
        "                  l2: float,\n",
        "                  output_layer: keras.layers.Layer,) -> keras.Model:\n",
        "                  \n",
        "        base_model = base_model(\n",
        "            include_top=False, weights=None, input_shape=(input_shape))\n",
        "        pool_layer = keras.layers.GlobalAvgPool2D()(base_model.output)\n",
        "        neck = keras.layers.Dense(n_dense, \n",
        "                                  activation=\"relu\",\n",
        "                                  kernel_initializer=\"he_uniform\",\n",
        "                                  kernel_regularizer=keras.regularizers.l2(l=l2))(pool_layer) \n",
        "        dropout = keras.layers.Dropout(dropout)(neck)\n",
        "        batchnorm = keras.layers.BatchNormalization()(dropout)\n",
        "        output = output_layer(batchnorm)\n",
        "        return keras.Model(inputs=base_model.input, outputs=output)\n",
        "\n",
        "\n",
        "# Define model 1\n",
        "model_2 = model_creator(\n",
        "    keras.applications.ResNet50, \n",
        "    input_shape=(40,132,3),\n",
        "    dropout=0.35, \n",
        "    n_dense=256,\n",
        "    l2=1e-5,\n",
        "    output_layer=keras.layers.Dense(8, activation=\"softmax\")\n",
        "    )"
      ],
      "execution_count": 0,
      "outputs": []
    },
    {
      "cell_type": "code",
      "metadata": {
        "id": "spwjp2jSxVlE",
        "colab_type": "code",
        "colab": {}
      },
      "source": [
        "# Compile\n",
        "model_2.compile(optimizer='adam', loss=keras.losses.sparse_categorical_crossentropy, \n",
        "                metrics=[\"accuracy\"], lr=1e-4)"
      ],
      "execution_count": 0,
      "outputs": []
    },
    {
      "cell_type": "code",
      "metadata": {
        "id": "LX_EdqYgxa_u",
        "colab_type": "code",
        "outputId": "a61a448e-5ce9-4ac7-98a8-09569fcd8ce8",
        "colab": {
          "base_uri": "https://localhost:8080/",
          "height": 1000
        }
      },
      "source": [
        "model_2.fit(get_train_data(), validation_data=get_val_data(), \n",
        "            epochs=30, steps_per_epoch=len(train_data) // 64, \n",
        "            validation_steps=len(val_data) // 64)"
      ],
      "execution_count": 0,
      "outputs": [
        {
          "output_type": "stream",
          "text": [
            "Train for 47 steps, validate for 5 steps\n",
            "Epoch 1/30\n",
            "47/47 [==============================] - 28s 603ms/step - loss: 1.9616 - accuracy: 0.2520 - val_loss: 2.2020 - val_accuracy: 0.1312\n",
            "Epoch 2/30\n",
            "47/47 [==============================] - 10s 210ms/step - loss: 1.5079 - accuracy: 0.4006 - val_loss: 2.5367 - val_accuracy: 0.1437\n",
            "Epoch 3/30\n",
            "47/47 [==============================] - 10s 206ms/step - loss: 1.1029 - accuracy: 0.5851 - val_loss: 3.2180 - val_accuracy: 0.1500\n",
            "Epoch 4/30\n",
            "47/47 [==============================] - 9s 194ms/step - loss: 0.7425 - accuracy: 0.7394 - val_loss: 4.2493 - val_accuracy: 0.1625\n",
            "Epoch 5/30\n",
            "47/47 [==============================] - 8s 176ms/step - loss: 0.5853 - accuracy: 0.7985 - val_loss: 2.7626 - val_accuracy: 0.1437\n",
            "Epoch 6/30\n",
            "47/47 [==============================] - 10s 205ms/step - loss: 0.5358 - accuracy: 0.8055 - val_loss: 8.4227 - val_accuracy: 0.1344\n",
            "Epoch 7/30\n",
            "47/47 [==============================] - 9s 195ms/step - loss: 0.4404 - accuracy: 0.8434 - val_loss: 7.7788 - val_accuracy: 0.1437\n",
            "Epoch 8/30\n",
            "47/47 [==============================] - 9s 197ms/step - loss: 0.3391 - accuracy: 0.8807 - val_loss: 5.8358 - val_accuracy: 0.1469\n",
            "Epoch 9/30\n",
            "47/47 [==============================] - 9s 183ms/step - loss: 0.3007 - accuracy: 0.9026 - val_loss: 6.0816 - val_accuracy: 0.1594\n",
            "Epoch 10/30\n",
            "47/47 [==============================] - 10s 203ms/step - loss: 0.2416 - accuracy: 0.9212 - val_loss: 6.7796 - val_accuracy: 0.1625\n",
            "Epoch 11/30\n",
            "47/47 [==============================] - 9s 189ms/step - loss: 0.2327 - accuracy: 0.9272 - val_loss: 5.5439 - val_accuracy: 0.1688\n",
            "Epoch 12/30\n",
            "47/47 [==============================] - 9s 197ms/step - loss: 0.2025 - accuracy: 0.9375 - val_loss: 6.2471 - val_accuracy: 0.2062\n",
            "Epoch 13/30\n",
            "47/47 [==============================] - 9s 189ms/step - loss: 0.1759 - accuracy: 0.9448 - val_loss: 3.9498 - val_accuracy: 0.2500\n",
            "Epoch 14/30\n",
            "47/47 [==============================] - 9s 198ms/step - loss: 0.2483 - accuracy: 0.9199 - val_loss: 6.7108 - val_accuracy: 0.2125\n",
            "Epoch 15/30\n",
            "47/47 [==============================] - 9s 197ms/step - loss: 0.1772 - accuracy: 0.9465 - val_loss: 5.6066 - val_accuracy: 0.2781\n",
            "Epoch 16/30\n",
            "47/47 [==============================] - 9s 186ms/step - loss: 0.1674 - accuracy: 0.9491 - val_loss: 1.6535 - val_accuracy: 0.6031\n",
            "Epoch 17/30\n",
            "47/47 [==============================] - 9s 192ms/step - loss: 0.1464 - accuracy: 0.9518 - val_loss: 2.2766 - val_accuracy: 0.5531\n",
            "Epoch 18/30\n",
            "47/47 [==============================] - 9s 190ms/step - loss: 0.0967 - accuracy: 0.9737 - val_loss: 2.1945 - val_accuracy: 0.4625\n",
            "Epoch 19/30\n",
            "47/47 [==============================] - 9s 185ms/step - loss: 0.1181 - accuracy: 0.9641 - val_loss: 1.1736 - val_accuracy: 0.7156\n",
            "Epoch 20/30\n",
            "47/47 [==============================] - 9s 196ms/step - loss: 0.0996 - accuracy: 0.9697 - val_loss: 1.4478 - val_accuracy: 0.6719\n",
            "Epoch 21/30\n",
            "47/47 [==============================] - 9s 190ms/step - loss: 0.0893 - accuracy: 0.9727 - val_loss: 1.1036 - val_accuracy: 0.6969\n",
            "Epoch 22/30\n",
            "47/47 [==============================] - 9s 196ms/step - loss: 0.1041 - accuracy: 0.9664 - val_loss: 4.5683 - val_accuracy: 0.3875\n",
            "Epoch 23/30\n",
            "47/47 [==============================] - 9s 191ms/step - loss: 0.0821 - accuracy: 0.9744 - val_loss: 10.2835 - val_accuracy: 0.2781\n",
            "Epoch 24/30\n",
            "47/47 [==============================] - 9s 184ms/step - loss: 0.0841 - accuracy: 0.9751 - val_loss: 10.0744 - val_accuracy: 0.2844\n",
            "Epoch 25/30\n",
            "47/47 [==============================] - 9s 189ms/step - loss: 0.0905 - accuracy: 0.9737 - val_loss: 10.0404 - val_accuracy: 0.3187\n",
            "Epoch 26/30\n",
            "47/47 [==============================] - 9s 187ms/step - loss: 0.0952 - accuracy: 0.9707 - val_loss: 7.1977 - val_accuracy: 0.3281\n",
            "Epoch 27/30\n",
            "47/47 [==============================] - 9s 200ms/step - loss: 0.0636 - accuracy: 0.9807 - val_loss: 2.8058 - val_accuracy: 0.5813\n",
            "Epoch 28/30\n",
            "47/47 [==============================] - 9s 193ms/step - loss: 0.0605 - accuracy: 0.9817 - val_loss: 7.7794 - val_accuracy: 0.3625\n",
            "Epoch 29/30\n",
            "47/47 [==============================] - 9s 190ms/step - loss: 0.0771 - accuracy: 0.9787 - val_loss: 2.0577 - val_accuracy: 0.5344\n",
            "Epoch 30/30\n",
            "47/47 [==============================] - 8s 172ms/step - loss: 0.0565 - accuracy: 0.9857 - val_loss: 2.2875 - val_accuracy: 0.5969\n"
          ],
          "name": "stdout"
        },
        {
          "output_type": "execute_result",
          "data": {
            "text/plain": [
              "<tensorflow.python.keras.callbacks.History at 0x7f38a9df71d0>"
            ]
          },
          "metadata": {
            "tags": []
          },
          "execution_count": 41
        }
      ]
    },
    {
      "cell_type": "code",
      "metadata": {
        "id": "OEu8wuCfxesP",
        "colab_type": "code",
        "colab": {}
      },
      "source": [
        "model_3 = model_creator(\n",
        "    keras.applications.ResNet50, \n",
        "    input_shape=(40,132,3),\n",
        "    dropout=0.45, \n",
        "    n_dense=256,\n",
        "    l2=1e-4,\n",
        "    output_layer=keras.layers.Dense(8, activation=\"softmax\")\n",
        "    )"
      ],
      "execution_count": 0,
      "outputs": []
    },
    {
      "cell_type": "code",
      "metadata": {
        "id": "cHNS43Qr8hKq",
        "colab_type": "code",
        "colab": {}
      },
      "source": [
        "# Compile\n",
        "model_3.compile(optimizer='adam', loss=keras.losses.sparse_categorical_crossentropy, \n",
        "                metrics=[\"accuracy\"], lr=1e-4)"
      ],
      "execution_count": 0,
      "outputs": []
    },
    {
      "cell_type": "code",
      "metadata": {
        "id": "ZNzo2R878jVF",
        "colab_type": "code",
        "outputId": "81d26608-e204-40b2-bec9-9b3c8db46340",
        "colab": {
          "base_uri": "https://localhost:8080/",
          "height": 1000
        }
      },
      "source": [
        "model_3.fit(get_train_data(), validation_data=get_val_data(), \n",
        "            epochs=30, steps_per_epoch=len(train_data) // 64, \n",
        "            validation_steps=len(val_data) // 64)"
      ],
      "execution_count": 0,
      "outputs": [
        {
          "output_type": "stream",
          "text": [
            "Train for 47 steps, validate for 5 steps\n",
            "Epoch 1/30\n",
            "47/47 [==============================] - 27s 571ms/step - loss: 2.0664 - accuracy: 0.2330 - val_loss: 2.2917 - val_accuracy: 0.1250\n",
            "Epoch 2/30\n",
            "47/47 [==============================] - 10s 206ms/step - loss: 1.5226 - accuracy: 0.4146 - val_loss: 2.8603 - val_accuracy: 0.1375\n",
            "Epoch 3/30\n",
            "47/47 [==============================] - 10s 207ms/step - loss: 1.1075 - accuracy: 0.6074 - val_loss: 3.6443 - val_accuracy: 0.1406\n",
            "Epoch 4/30\n",
            "47/47 [==============================] - 9s 186ms/step - loss: 0.8291 - accuracy: 0.7164 - val_loss: 4.3919 - val_accuracy: 0.1344\n",
            "Epoch 5/30\n",
            "47/47 [==============================] - 9s 193ms/step - loss: 0.6323 - accuracy: 0.7889 - val_loss: 3.0333 - val_accuracy: 0.1500\n",
            "Epoch 6/30\n",
            "47/47 [==============================] - 9s 185ms/step - loss: 0.5553 - accuracy: 0.8271 - val_loss: 2.4864 - val_accuracy: 0.1344\n",
            "Epoch 7/30\n",
            "47/47 [==============================] - 9s 195ms/step - loss: 0.4428 - accuracy: 0.8627 - val_loss: 2.9448 - val_accuracy: 0.1375\n",
            "Epoch 8/30\n",
            "47/47 [==============================] - 9s 182ms/step - loss: 0.4091 - accuracy: 0.8747 - val_loss: 2.9921 - val_accuracy: 0.0344\n",
            "Epoch 9/30\n",
            "47/47 [==============================] - 8s 180ms/step - loss: 0.4199 - accuracy: 0.8707 - val_loss: 3.7819 - val_accuracy: 0.1281\n",
            "Epoch 10/30\n",
            "47/47 [==============================] - 9s 195ms/step - loss: 0.4339 - accuracy: 0.8637 - val_loss: 3.3127 - val_accuracy: 0.1750\n",
            "Epoch 11/30\n",
            "47/47 [==============================] - 10s 205ms/step - loss: 0.3247 - accuracy: 0.9089 - val_loss: 3.3649 - val_accuracy: 0.1844\n",
            "Epoch 12/30\n",
            "47/47 [==============================] - 9s 189ms/step - loss: 0.2689 - accuracy: 0.9265 - val_loss: 3.2581 - val_accuracy: 0.1250\n",
            "Epoch 13/30\n",
            "47/47 [==============================] - 10s 208ms/step - loss: 0.2684 - accuracy: 0.9239 - val_loss: 2.8247 - val_accuracy: 0.3125\n",
            "Epoch 14/30\n",
            "47/47 [==============================] - 9s 184ms/step - loss: 0.2474 - accuracy: 0.9328 - val_loss: 1.9435 - val_accuracy: 0.4812\n",
            "Epoch 15/30\n",
            "47/47 [==============================] - 9s 189ms/step - loss: 0.2074 - accuracy: 0.9468 - val_loss: 1.0948 - val_accuracy: 0.6781\n",
            "Epoch 16/30\n",
            "47/47 [==============================] - 9s 189ms/step - loss: 0.1953 - accuracy: 0.9488 - val_loss: 5.4598 - val_accuracy: 0.2812\n",
            "Epoch 17/30\n",
            "47/47 [==============================] - 9s 197ms/step - loss: 0.1837 - accuracy: 0.9481 - val_loss: 2.0230 - val_accuracy: 0.4906\n",
            "Epoch 18/30\n",
            "47/47 [==============================] - 9s 187ms/step - loss: 0.1880 - accuracy: 0.9508 - val_loss: 1.1665 - val_accuracy: 0.6594\n",
            "Epoch 19/30\n",
            "47/47 [==============================] - 9s 192ms/step - loss: 0.1665 - accuracy: 0.9581 - val_loss: 0.9517 - val_accuracy: 0.7625\n",
            "Epoch 20/30\n",
            "47/47 [==============================] - 10s 208ms/step - loss: 0.1196 - accuracy: 0.9678 - val_loss: 0.8450 - val_accuracy: 0.7469\n",
            "Epoch 21/30\n",
            "47/47 [==============================] - 9s 189ms/step - loss: 0.1229 - accuracy: 0.9688 - val_loss: 5.0979 - val_accuracy: 0.2562\n",
            "Epoch 22/30\n",
            "47/47 [==============================] - 9s 194ms/step - loss: 0.1236 - accuracy: 0.9701 - val_loss: 1.5288 - val_accuracy: 0.6156\n",
            "Epoch 23/30\n",
            "47/47 [==============================] - 9s 190ms/step - loss: 0.1358 - accuracy: 0.9664 - val_loss: 1.7697 - val_accuracy: 0.6062\n",
            "Epoch 24/30\n",
            "47/47 [==============================] - 9s 200ms/step - loss: 0.1394 - accuracy: 0.9651 - val_loss: 0.8440 - val_accuracy: 0.7437\n",
            "Epoch 25/30\n",
            "47/47 [==============================] - 9s 189ms/step - loss: 0.1567 - accuracy: 0.9591 - val_loss: 1.1895 - val_accuracy: 0.7125\n",
            "Epoch 26/30\n",
            "47/47 [==============================] - 9s 200ms/step - loss: 0.1380 - accuracy: 0.9661 - val_loss: 1.2981 - val_accuracy: 0.6719\n",
            "Epoch 27/30\n",
            "47/47 [==============================] - 9s 198ms/step - loss: 0.0815 - accuracy: 0.9824 - val_loss: 8.3250 - val_accuracy: 0.3219\n",
            "Epoch 28/30\n",
            "47/47 [==============================] - 9s 183ms/step - loss: 0.0783 - accuracy: 0.9867 - val_loss: 4.1709 - val_accuracy: 0.4344\n",
            "Epoch 29/30\n",
            "47/47 [==============================] - 10s 207ms/step - loss: 0.0809 - accuracy: 0.9834 - val_loss: 7.5662 - val_accuracy: 0.2875\n",
            "Epoch 30/30\n",
            "47/47 [==============================] - 9s 194ms/step - loss: 0.0626 - accuracy: 0.9900 - val_loss: 4.2964 - val_accuracy: 0.4375\n"
          ],
          "name": "stdout"
        },
        {
          "output_type": "execute_result",
          "data": {
            "text/plain": [
              "<tensorflow.python.keras.callbacks.History at 0x7f38b69bdb38>"
            ]
          },
          "metadata": {
            "tags": []
          },
          "execution_count": 44
        }
      ]
    },
    {
      "cell_type": "markdown",
      "metadata": {
        "id": "2sxYjNlK9m3O",
        "colab_type": "text"
      },
      "source": [
        "#### Comment\n",
        "This still seems quite unstable. Let's try a more simple model to check if the overfitting and variance of val loss decreases."
      ]
    },
    {
      "cell_type": "code",
      "metadata": {
        "id": "yECxZ2I28lez",
        "colab_type": "code",
        "colab": {}
      },
      "source": [
        "# Simple convnet model (Sequential API for fun.)\n",
        "def make_model_no_transfer(\n",
        "  input_shape,\n",
        "  n_conv_layers: int,\n",
        "  conv_depths,\n",
        "  dropout,\n",
        "  l1,\n",
        "  l2,\n",
        "):\n",
        "  \n",
        "  model = keras.models.Sequential()\n",
        "  model.add(keras.Input(shape=input_shape))\n",
        "  model.add(keras.layers.Conv2D(conv_depths[0], (7,7), strides=(1,1)))\n",
        "  model.add(keras.layers.Activation('relu'))\n",
        "  model.add(keras.layers.BatchNormalization())\n",
        "  \n",
        "  if n_conv_layers > 1:\n",
        "    for i in range(n_conv_layers-1):\n",
        "      model.add(keras.layers.Conv2D(conv_depths[i+1], (7,7), strides=(1,1)))\n",
        "      model.add(keras.layers.BatchNormalization())\n",
        "      model.add(keras.layers.Activation('relu'))\n",
        "\n",
        "  model.add(keras.layers.GlobalAveragePooling2D())\n",
        "  model.add(keras.layers.BatchNormalization())\n",
        "  model.add(keras.layers.Dropout(dropout))\n",
        "  model.add(keras.layers.Dense(\n",
        "    8,\n",
        "    activation=keras.activations.softmax))\n",
        "    \n",
        "  return model"
      ],
      "execution_count": 0,
      "outputs": []
    },
    {
      "cell_type": "code",
      "metadata": {
        "id": "dRmL7WCk-Kku",
        "colab_type": "code",
        "colab": {}
      },
      "source": [
        "model_4 = make_model_no_transfer(INPUT_SHAPE[1:], 3, [256, 256, 128], 0.4, 1e-4, 1e-3)"
      ],
      "execution_count": 0,
      "outputs": []
    },
    {
      "cell_type": "code",
      "metadata": {
        "id": "pA-hEHfO_J32",
        "colab_type": "code",
        "colab": {}
      },
      "source": [
        "# Compile\n",
        "model_4.compile(optimizer='adam', loss=keras.losses.sparse_categorical_crossentropy, \n",
        "                metrics=[\"accuracy\"], lr=1e-4)"
      ],
      "execution_count": 0,
      "outputs": []
    },
    {
      "cell_type": "code",
      "metadata": {
        "id": "HQcmmI5h_RMt",
        "colab_type": "code",
        "outputId": "2d0669dc-c7e1-471c-bc1e-3d83c82e911b",
        "colab": {
          "base_uri": "https://localhost:8080/",
          "height": 864
        }
      },
      "source": [
        "model_4.fit(get_train_data(), validation_data=get_val_data(), \n",
        "            epochs=30, steps_per_epoch=len(train_data) // 64, \n",
        "            validation_steps=len(val_data) // 64)"
      ],
      "execution_count": 0,
      "outputs": [
        {
          "output_type": "stream",
          "text": [
            "Train for 47 steps, validate for 5 steps\n",
            "Epoch 1/30\n",
            "47/47 [==============================] - 26s 558ms/step - loss: 1.9412 - accuracy: 0.2859 - val_loss: 2.0701 - val_accuracy: 0.1406\n",
            "Epoch 2/30\n",
            "47/47 [==============================] - 18s 379ms/step - loss: 1.6227 - accuracy: 0.4126 - val_loss: 2.1051 - val_accuracy: 0.1656\n",
            "Epoch 3/30\n",
            "47/47 [==============================] - 18s 379ms/step - loss: 1.3570 - accuracy: 0.5253 - val_loss: 2.1823 - val_accuracy: 0.1500\n",
            "Epoch 4/30\n",
            "47/47 [==============================] - 18s 378ms/step - loss: 1.1352 - accuracy: 0.6054 - val_loss: 2.2480 - val_accuracy: 0.1844\n",
            "Epoch 5/30\n",
            "47/47 [==============================] - 18s 379ms/step - loss: 1.0260 - accuracy: 0.6400 - val_loss: 2.3003 - val_accuracy: 0.1906\n",
            "Epoch 6/30\n",
            "47/47 [==============================] - 18s 378ms/step - loss: 0.8904 - accuracy: 0.6922 - val_loss: 2.6530 - val_accuracy: 0.1719\n",
            "Epoch 7/30\n",
            "47/47 [==============================] - 18s 377ms/step - loss: 0.8238 - accuracy: 0.7124 - val_loss: 3.2355 - val_accuracy: 0.1625\n",
            "Epoch 8/30\n",
            "47/47 [==============================] - 18s 375ms/step - loss: 0.7505 - accuracy: 0.7340 - val_loss: 3.5527 - val_accuracy: 0.1719\n",
            "Epoch 9/30\n",
            "47/47 [==============================] - 18s 378ms/step - loss: 0.6933 - accuracy: 0.7520 - val_loss: 5.3830 - val_accuracy: 0.1969\n",
            "Epoch 10/30\n",
            "47/47 [==============================] - 18s 380ms/step - loss: 0.6571 - accuracy: 0.7703 - val_loss: 4.3732 - val_accuracy: 0.1875\n",
            "Epoch 11/30\n",
            "47/47 [==============================] - 18s 379ms/step - loss: 0.6014 - accuracy: 0.7955 - val_loss: 5.0779 - val_accuracy: 0.2344\n",
            "Epoch 12/30\n",
            "47/47 [==============================] - 18s 378ms/step - loss: 0.5592 - accuracy: 0.8138 - val_loss: 5.2476 - val_accuracy: 0.1937\n",
            "Epoch 13/30\n",
            "17/47 [=========>....................] - ETA: 10s - loss: 0.5536 - accuracy: 0.8213"
          ],
          "name": "stdout"
        },
        {
          "output_type": "error",
          "ename": "KeyboardInterrupt",
          "evalue": "ignored",
          "traceback": [
            "\u001b[0;31m---------------------------------------------------------------------------\u001b[0m",
            "\u001b[0;31mKeyboardInterrupt\u001b[0m                         Traceback (most recent call last)",
            "\u001b[0;32m<ipython-input-62-3b5af9e68a04>\u001b[0m in \u001b[0;36m<module>\u001b[0;34m()\u001b[0m\n\u001b[1;32m      1\u001b[0m model_4.fit(get_train_data(), validation_data=get_val_data(), \n\u001b[1;32m      2\u001b[0m             \u001b[0mepochs\u001b[0m\u001b[0;34m=\u001b[0m\u001b[0;36m30\u001b[0m\u001b[0;34m,\u001b[0m \u001b[0msteps_per_epoch\u001b[0m\u001b[0;34m=\u001b[0m\u001b[0mlen\u001b[0m\u001b[0;34m(\u001b[0m\u001b[0mtrain_data\u001b[0m\u001b[0;34m)\u001b[0m \u001b[0;34m//\u001b[0m \u001b[0;36m64\u001b[0m\u001b[0;34m,\u001b[0m\u001b[0;34m\u001b[0m\u001b[0;34m\u001b[0m\u001b[0m\n\u001b[0;32m----> 3\u001b[0;31m             validation_steps=len(val_data) // 64)\n\u001b[0m",
            "\u001b[0;32m/usr/local/lib/python3.6/dist-packages/tensorflow_core/python/keras/engine/training.py\u001b[0m in \u001b[0;36mfit\u001b[0;34m(self, x, y, batch_size, epochs, verbose, callbacks, validation_split, validation_data, shuffle, class_weight, sample_weight, initial_epoch, steps_per_epoch, validation_steps, validation_freq, max_queue_size, workers, use_multiprocessing, **kwargs)\u001b[0m\n\u001b[1;32m    726\u001b[0m         \u001b[0mmax_queue_size\u001b[0m\u001b[0;34m=\u001b[0m\u001b[0mmax_queue_size\u001b[0m\u001b[0;34m,\u001b[0m\u001b[0;34m\u001b[0m\u001b[0;34m\u001b[0m\u001b[0m\n\u001b[1;32m    727\u001b[0m         \u001b[0mworkers\u001b[0m\u001b[0;34m=\u001b[0m\u001b[0mworkers\u001b[0m\u001b[0;34m,\u001b[0m\u001b[0;34m\u001b[0m\u001b[0;34m\u001b[0m\u001b[0m\n\u001b[0;32m--> 728\u001b[0;31m         use_multiprocessing=use_multiprocessing)\n\u001b[0m\u001b[1;32m    729\u001b[0m \u001b[0;34m\u001b[0m\u001b[0m\n\u001b[1;32m    730\u001b[0m   def evaluate(self,\n",
            "\u001b[0;32m/usr/local/lib/python3.6/dist-packages/tensorflow_core/python/keras/engine/training_v2.py\u001b[0m in \u001b[0;36mfit\u001b[0;34m(self, model, x, y, batch_size, epochs, verbose, callbacks, validation_split, validation_data, shuffle, class_weight, sample_weight, initial_epoch, steps_per_epoch, validation_steps, validation_freq, **kwargs)\u001b[0m\n\u001b[1;32m    322\u001b[0m                 \u001b[0mmode\u001b[0m\u001b[0;34m=\u001b[0m\u001b[0mModeKeys\u001b[0m\u001b[0;34m.\u001b[0m\u001b[0mTRAIN\u001b[0m\u001b[0;34m,\u001b[0m\u001b[0;34m\u001b[0m\u001b[0;34m\u001b[0m\u001b[0m\n\u001b[1;32m    323\u001b[0m                 \u001b[0mtraining_context\u001b[0m\u001b[0;34m=\u001b[0m\u001b[0mtraining_context\u001b[0m\u001b[0;34m,\u001b[0m\u001b[0;34m\u001b[0m\u001b[0;34m\u001b[0m\u001b[0m\n\u001b[0;32m--> 324\u001b[0;31m                 total_epochs=epochs)\n\u001b[0m\u001b[1;32m    325\u001b[0m             \u001b[0mcbks\u001b[0m\u001b[0;34m.\u001b[0m\u001b[0mmake_logs\u001b[0m\u001b[0;34m(\u001b[0m\u001b[0mmodel\u001b[0m\u001b[0;34m,\u001b[0m \u001b[0mepoch_logs\u001b[0m\u001b[0;34m,\u001b[0m \u001b[0mtraining_result\u001b[0m\u001b[0;34m,\u001b[0m \u001b[0mModeKeys\u001b[0m\u001b[0;34m.\u001b[0m\u001b[0mTRAIN\u001b[0m\u001b[0;34m)\u001b[0m\u001b[0;34m\u001b[0m\u001b[0;34m\u001b[0m\u001b[0m\n\u001b[1;32m    326\u001b[0m \u001b[0;34m\u001b[0m\u001b[0m\n",
            "\u001b[0;32m/usr/local/lib/python3.6/dist-packages/tensorflow_core/python/keras/engine/training_v2.py\u001b[0m in \u001b[0;36mrun_one_epoch\u001b[0;34m(model, iterator, execution_function, dataset_size, batch_size, strategy, steps_per_epoch, num_samples, mode, training_context, total_epochs)\u001b[0m\n\u001b[1;32m    121\u001b[0m         step=step, mode=mode, size=current_batch_size) as batch_logs:\n\u001b[1;32m    122\u001b[0m       \u001b[0;32mtry\u001b[0m\u001b[0;34m:\u001b[0m\u001b[0;34m\u001b[0m\u001b[0;34m\u001b[0m\u001b[0m\n\u001b[0;32m--> 123\u001b[0;31m         \u001b[0mbatch_outs\u001b[0m \u001b[0;34m=\u001b[0m \u001b[0mexecution_function\u001b[0m\u001b[0;34m(\u001b[0m\u001b[0miterator\u001b[0m\u001b[0;34m)\u001b[0m\u001b[0;34m\u001b[0m\u001b[0;34m\u001b[0m\u001b[0m\n\u001b[0m\u001b[1;32m    124\u001b[0m       \u001b[0;32mexcept\u001b[0m \u001b[0;34m(\u001b[0m\u001b[0mStopIteration\u001b[0m\u001b[0;34m,\u001b[0m \u001b[0merrors\u001b[0m\u001b[0;34m.\u001b[0m\u001b[0mOutOfRangeError\u001b[0m\u001b[0;34m)\u001b[0m\u001b[0;34m:\u001b[0m\u001b[0;34m\u001b[0m\u001b[0;34m\u001b[0m\u001b[0m\n\u001b[1;32m    125\u001b[0m         \u001b[0;31m# TODO(kaftan): File bug about tf function and errors.OutOfRangeError?\u001b[0m\u001b[0;34m\u001b[0m\u001b[0;34m\u001b[0m\u001b[0;34m\u001b[0m\u001b[0m\n",
            "\u001b[0;32m/usr/local/lib/python3.6/dist-packages/tensorflow_core/python/keras/engine/training_v2_utils.py\u001b[0m in \u001b[0;36mexecution_function\u001b[0;34m(input_fn)\u001b[0m\n\u001b[1;32m     84\u001b[0m     \u001b[0;31m# `numpy` translates Tensors to values in Eager mode.\u001b[0m\u001b[0;34m\u001b[0m\u001b[0;34m\u001b[0m\u001b[0;34m\u001b[0m\u001b[0m\n\u001b[1;32m     85\u001b[0m     return nest.map_structure(_non_none_constant_value,\n\u001b[0;32m---> 86\u001b[0;31m                               distributed_function(input_fn))\n\u001b[0m\u001b[1;32m     87\u001b[0m \u001b[0;34m\u001b[0m\u001b[0m\n\u001b[1;32m     88\u001b[0m   \u001b[0;32mreturn\u001b[0m \u001b[0mexecution_function\u001b[0m\u001b[0;34m\u001b[0m\u001b[0;34m\u001b[0m\u001b[0m\n",
            "\u001b[0;32m/usr/local/lib/python3.6/dist-packages/tensorflow_core/python/util/nest.py\u001b[0m in \u001b[0;36mmap_structure\u001b[0;34m(func, *structure, **kwargs)\u001b[0m\n\u001b[1;32m    533\u001b[0m \u001b[0;34m\u001b[0m\u001b[0m\n\u001b[1;32m    534\u001b[0m   return pack_sequence_as(\n\u001b[0;32m--> 535\u001b[0;31m       \u001b[0mstructure\u001b[0m\u001b[0;34m[\u001b[0m\u001b[0;36m0\u001b[0m\u001b[0;34m]\u001b[0m\u001b[0;34m,\u001b[0m \u001b[0;34m[\u001b[0m\u001b[0mfunc\u001b[0m\u001b[0;34m(\u001b[0m\u001b[0;34m*\u001b[0m\u001b[0mx\u001b[0m\u001b[0;34m)\u001b[0m \u001b[0;32mfor\u001b[0m \u001b[0mx\u001b[0m \u001b[0;32min\u001b[0m \u001b[0mentries\u001b[0m\u001b[0;34m]\u001b[0m\u001b[0;34m,\u001b[0m\u001b[0;34m\u001b[0m\u001b[0;34m\u001b[0m\u001b[0m\n\u001b[0m\u001b[1;32m    536\u001b[0m       expand_composites=expand_composites)\n\u001b[1;32m    537\u001b[0m \u001b[0;34m\u001b[0m\u001b[0m\n",
            "\u001b[0;32m/usr/local/lib/python3.6/dist-packages/tensorflow_core/python/util/nest.py\u001b[0m in \u001b[0;36m<listcomp>\u001b[0;34m(.0)\u001b[0m\n\u001b[1;32m    533\u001b[0m \u001b[0;34m\u001b[0m\u001b[0m\n\u001b[1;32m    534\u001b[0m   return pack_sequence_as(\n\u001b[0;32m--> 535\u001b[0;31m       \u001b[0mstructure\u001b[0m\u001b[0;34m[\u001b[0m\u001b[0;36m0\u001b[0m\u001b[0;34m]\u001b[0m\u001b[0;34m,\u001b[0m \u001b[0;34m[\u001b[0m\u001b[0mfunc\u001b[0m\u001b[0;34m(\u001b[0m\u001b[0;34m*\u001b[0m\u001b[0mx\u001b[0m\u001b[0;34m)\u001b[0m \u001b[0;32mfor\u001b[0m \u001b[0mx\u001b[0m \u001b[0;32min\u001b[0m \u001b[0mentries\u001b[0m\u001b[0;34m]\u001b[0m\u001b[0;34m,\u001b[0m\u001b[0;34m\u001b[0m\u001b[0;34m\u001b[0m\u001b[0m\n\u001b[0m\u001b[1;32m    536\u001b[0m       expand_composites=expand_composites)\n\u001b[1;32m    537\u001b[0m \u001b[0;34m\u001b[0m\u001b[0m\n",
            "\u001b[0;32m/usr/local/lib/python3.6/dist-packages/tensorflow_core/python/keras/engine/training_v2_utils.py\u001b[0m in \u001b[0;36m_non_none_constant_value\u001b[0;34m(v)\u001b[0m\n\u001b[1;32m     90\u001b[0m \u001b[0;34m\u001b[0m\u001b[0m\n\u001b[1;32m     91\u001b[0m \u001b[0;32mdef\u001b[0m \u001b[0m_non_none_constant_value\u001b[0m\u001b[0;34m(\u001b[0m\u001b[0mv\u001b[0m\u001b[0;34m)\u001b[0m\u001b[0;34m:\u001b[0m\u001b[0;34m\u001b[0m\u001b[0;34m\u001b[0m\u001b[0m\n\u001b[0;32m---> 92\u001b[0;31m   \u001b[0mconstant_value\u001b[0m \u001b[0;34m=\u001b[0m \u001b[0mtensor_util\u001b[0m\u001b[0;34m.\u001b[0m\u001b[0mconstant_value\u001b[0m\u001b[0;34m(\u001b[0m\u001b[0mv\u001b[0m\u001b[0;34m)\u001b[0m\u001b[0;34m\u001b[0m\u001b[0;34m\u001b[0m\u001b[0m\n\u001b[0m\u001b[1;32m     93\u001b[0m   \u001b[0;32mreturn\u001b[0m \u001b[0mconstant_value\u001b[0m \u001b[0;32mif\u001b[0m \u001b[0mconstant_value\u001b[0m \u001b[0;32mis\u001b[0m \u001b[0;32mnot\u001b[0m \u001b[0;32mNone\u001b[0m \u001b[0;32melse\u001b[0m \u001b[0mv\u001b[0m\u001b[0;34m\u001b[0m\u001b[0;34m\u001b[0m\u001b[0m\n\u001b[1;32m     94\u001b[0m \u001b[0;34m\u001b[0m\u001b[0m\n",
            "\u001b[0;32m/usr/local/lib/python3.6/dist-packages/tensorflow_core/python/framework/tensor_util.py\u001b[0m in \u001b[0;36mconstant_value\u001b[0;34m(tensor, partial)\u001b[0m\n\u001b[1;32m    790\u001b[0m   \"\"\"\n\u001b[1;32m    791\u001b[0m   \u001b[0;32mif\u001b[0m \u001b[0misinstance\u001b[0m\u001b[0;34m(\u001b[0m\u001b[0mtensor\u001b[0m\u001b[0;34m,\u001b[0m \u001b[0mops\u001b[0m\u001b[0;34m.\u001b[0m\u001b[0mEagerTensor\u001b[0m\u001b[0;34m)\u001b[0m\u001b[0;34m:\u001b[0m\u001b[0;34m\u001b[0m\u001b[0;34m\u001b[0m\u001b[0m\n\u001b[0;32m--> 792\u001b[0;31m     \u001b[0;32mreturn\u001b[0m \u001b[0mtensor\u001b[0m\u001b[0;34m.\u001b[0m\u001b[0mnumpy\u001b[0m\u001b[0;34m(\u001b[0m\u001b[0;34m)\u001b[0m\u001b[0;34m\u001b[0m\u001b[0;34m\u001b[0m\u001b[0m\n\u001b[0m\u001b[1;32m    793\u001b[0m   \u001b[0;32mif\u001b[0m \u001b[0;32mnot\u001b[0m \u001b[0mis_tensor\u001b[0m\u001b[0;34m(\u001b[0m\u001b[0mtensor\u001b[0m\u001b[0;34m)\u001b[0m\u001b[0;34m:\u001b[0m\u001b[0;34m\u001b[0m\u001b[0;34m\u001b[0m\u001b[0m\n\u001b[1;32m    794\u001b[0m     \u001b[0;32mreturn\u001b[0m \u001b[0mtensor\u001b[0m\u001b[0;34m\u001b[0m\u001b[0;34m\u001b[0m\u001b[0m\n",
            "\u001b[0;32m/usr/local/lib/python3.6/dist-packages/tensorflow_core/python/framework/ops.py\u001b[0m in \u001b[0;36mnumpy\u001b[0;34m(self)\u001b[0m\n\u001b[1;32m    931\u001b[0m       \u001b[0mValueError\u001b[0m\u001b[0;34m:\u001b[0m \u001b[0;32mif\u001b[0m \u001b[0mthe\u001b[0m \u001b[0mtype\u001b[0m \u001b[0mof\u001b[0m \u001b[0mthis\u001b[0m \u001b[0mTensor\u001b[0m \u001b[0;32mis\u001b[0m \u001b[0;32mnot\u001b[0m \u001b[0mrepresentable\u001b[0m \u001b[0;32min\u001b[0m \u001b[0mnumpy\u001b[0m\u001b[0;34m.\u001b[0m\u001b[0;34m\u001b[0m\u001b[0;34m\u001b[0m\u001b[0m\n\u001b[1;32m    932\u001b[0m     \"\"\"\n\u001b[0;32m--> 933\u001b[0;31m     \u001b[0mmaybe_arr\u001b[0m \u001b[0;34m=\u001b[0m \u001b[0mself\u001b[0m\u001b[0;34m.\u001b[0m\u001b[0m_numpy\u001b[0m\u001b[0;34m(\u001b[0m\u001b[0;34m)\u001b[0m  \u001b[0;31m# pylint: disable=protected-access\u001b[0m\u001b[0;34m\u001b[0m\u001b[0;34m\u001b[0m\u001b[0m\n\u001b[0m\u001b[1;32m    934\u001b[0m     \u001b[0;32mreturn\u001b[0m \u001b[0mmaybe_arr\u001b[0m\u001b[0;34m.\u001b[0m\u001b[0mcopy\u001b[0m\u001b[0;34m(\u001b[0m\u001b[0;34m)\u001b[0m \u001b[0;32mif\u001b[0m \u001b[0misinstance\u001b[0m\u001b[0;34m(\u001b[0m\u001b[0mmaybe_arr\u001b[0m\u001b[0;34m,\u001b[0m \u001b[0mnp\u001b[0m\u001b[0;34m.\u001b[0m\u001b[0mndarray\u001b[0m\u001b[0;34m)\u001b[0m \u001b[0;32melse\u001b[0m \u001b[0mmaybe_arr\u001b[0m\u001b[0;34m\u001b[0m\u001b[0;34m\u001b[0m\u001b[0m\n\u001b[1;32m    935\u001b[0m \u001b[0;34m\u001b[0m\u001b[0m\n",
            "\u001b[0;31mKeyboardInterrupt\u001b[0m: "
          ]
        }
      ]
    },
    {
      "cell_type": "markdown",
      "metadata": {
        "id": "PRKe6ElM_lJA",
        "colab_type": "text"
      },
      "source": [
        "## 4. Evaluate models on test data"
      ]
    },
    {
      "cell_type": "code",
      "metadata": {
        "id": "np7jY6HE_edS",
        "colab_type": "code",
        "outputId": "1af7d379-bdef-4523-cad0-939320972641",
        "colab": {
          "base_uri": "https://localhost:8080/",
          "height": 143
        }
      },
      "source": [
        "print(\"Test accuracy:\")\n",
        "print(f\"Model 2: {model_2.evaluate(get_test_data(), steps = len(val_data) // 64)}\")\n",
        "print(f\"Model 3: {model_3.evaluate(get_test_data(), steps = len(val_data) // 64)}\")\n",
        "print(f\"Model 4: {model_4.evaluate(get_test_data(), steps = len(val_data) // 64)}\")"
      ],
      "execution_count": 0,
      "outputs": [
        {
          "output_type": "stream",
          "text": [
            "Test accuracy:\n",
            "5/5 [==============================] - 1s 136ms/step - loss: 2.4208 - accuracy: 0.5469\n",
            "Model 2: [2.420772409439087, 0.546875]\n",
            "5/5 [==============================] - 2s 364ms/step - loss: 4.2371 - accuracy: 0.4500\n",
            "Model 3: [4.237071323394775, 0.45]\n",
            "5/5 [==============================] - 1s 138ms/step - loss: 2.6007 - accuracy: 0.4625\n",
            "Model 4: [2.6007179260253905, 0.4625]\n"
          ],
          "name": "stdout"
        }
      ]
    },
    {
      "cell_type": "code",
      "metadata": {
        "id": "TgGjWl6uBolK",
        "colab_type": "code",
        "colab": {}
      },
      "source": [
        ""
      ],
      "execution_count": 0,
      "outputs": []
    }
  ]
}